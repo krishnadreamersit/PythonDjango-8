{
 "cells": [
  {
   "cell_type": "code",
   "execution_count": 1,
   "id": "08576a91-b068-47e2-bb3d-22fcc5b309ef",
   "metadata": {},
   "outputs": [],
   "source": [
    "# Why function?\n",
    "# Write Once; Use Many"
   ]
  },
  {
   "cell_type": "code",
   "execution_count": 3,
   "id": "9d72713e-a8eb-4ccb-8e7b-525b47e85eae",
   "metadata": {},
   "outputs": [
    {
     "name": "stdout",
     "output_type": "stream",
     "text": [
      "\n"
     ]
    }
   ],
   "source": [
    "print()\n",
    "max()\n",
    "min()\n",
    "type()\n",
    "input()"
   ]
  },
  {
   "cell_type": "code",
   "execution_count": null,
   "id": "24a74bac-60a3-413d-b058-381b1c0da2e5",
   "metadata": {},
   "outputs": [],
   "source": [
    "# grouping statement(s) in one block \n",
    "# to peform specific task\n",
    "\n",
    "# sum, diff, prd, div, rem, sqrt, pow, and others\n",
    "# input, process, output\n",
    "# write on file, read from file\n",
    "# save on database, and retrieve from database\n"
   ]
  },
  {
   "cell_type": "code",
   "execution_count": 18,
   "id": "9fbba8e3-23d5-4a4c-ab14-c346338c2dca",
   "metadata": {},
   "outputs": [],
   "source": [
    "# How to create a function?\n",
    "def function_name():\n",
    "    # Statements\n",
    "    pass\n",
    "\n",
    "def display_info():\n",
    "    print(\"Hello from Broadway\")\n",
    "    \n",
    "def calc_sum(n1, n2):\n",
    "    print(n1+n2)\n",
    "\n",
    "def calc_sum2(n1, n2):\n",
    "    return n1+n2"
   ]
  },
  {
   "cell_type": "code",
   "execution_count": 19,
   "id": "a6db283f-1c18-4cb5-8417-09c008104b57",
   "metadata": {
    "jupyter": {
     "source_hidden": true
    },
    "tags": []
   },
   "outputs": [
    {
     "name": "stdout",
     "output_type": "stream",
     "text": [
      "13\n"
     ]
    }
   ],
   "source": [
    "# Calling function\n",
    "# display_info()\n",
    "# for i in range(5):\n",
    "#     display_info()\n",
    "# num1 = 5\n",
    "# num2 = 7\n",
    "# calc_sum(num1, num2)  # Call\n",
    "# num1 = input(\"Enter first no :\")\n",
    "# num2 = input(\"Enter second no : \")\n",
    "# num1 = int(num1);\n",
    "# num2 = int(num2);\n",
    "# calc_sum(num1, num2) # Call\n",
    "\n",
    "result = calc_sum2(6,7)\n",
    "print(result)"
   ]
  },
  {
   "cell_type": "code",
   "execution_count": null,
   "id": "ceae8363-5aa1-4e50-b883-27d2e779028a",
   "metadata": {},
   "outputs": [],
   "source": [
    "# Task-6\n",
    "    # Enter id : _1\n",
    "    # Enter name : _Raj\n",
    "    # Enter Sub1: _56\n",
    "    # Enter Sub2: _54\n",
    "    # Enter Sub3: _45\n",
    "    # Total : 155\n",
    "    # Average: 51.xxxx\n",
    "    # Result : PASS\n",
    "# Create functions to solve the\n",
    "# result processing system.\n"
   ]
  }
 ],
 "metadata": {
  "kernelspec": {
   "display_name": "Python 3 (ipykernel)",
   "language": "python",
   "name": "python3"
  },
  "language_info": {
   "codemirror_mode": {
    "name": "ipython",
    "version": 3
   },
   "file_extension": ".py",
   "mimetype": "text/x-python",
   "name": "python",
   "nbconvert_exporter": "python",
   "pygments_lexer": "ipython3",
   "version": "3.10.4"
  }
 },
 "nbformat": 4,
 "nbformat_minor": 5
}
