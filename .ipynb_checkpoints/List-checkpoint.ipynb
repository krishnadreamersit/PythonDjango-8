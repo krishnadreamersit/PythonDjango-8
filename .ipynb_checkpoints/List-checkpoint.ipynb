{
 "cells": [
  {
   "cell_type": "markdown",
   "id": "2b6331b4-de86-4714-aaaf-ca3012201aff",
   "metadata": {},
   "source": [
    "## List"
   ]
  },
  {
   "cell_type": "code",
   "execution_count": 15,
   "id": "eef219f0-1946-4ae7-a5ac-896c8b079023",
   "metadata": {},
   "outputs": [
    {
     "name": "stdout",
     "output_type": "stream",
     "text": [
      "<class 'list'>\n",
      "[6, 7, 8, 9, 5, 6, 7, 8, 9, 6, 4, 3, 4, 5, 6, 7, 8, 9, 5, 3, 2, 3, 2, 1, 2, 4, 0]\n",
      "2536387699712\n",
      "27\n",
      "9\n",
      "0\n",
      "139\n",
      "272\n"
     ]
    }
   ],
   "source": [
    "from array import array\n",
    "import sys\n",
    "\n",
    "# Decalre\n",
    "list1 = list()\n",
    "list1 = list([1,2,3,4,5,6,7,8,9])\n",
    "list1 = [4,5,6,7,8,9]\n",
    "array1 = array('i', [6,7,8,9])\n",
    "list1 = [None, True, False, 123, 123.456, 123456+789J, \"Broadway\", array1]\n",
    "\n",
    "array1 = array('i', [6,7,8,9,5,6,7,8,9,6,4,3,4,5,6,7,8,9,5,3,2,3,2,1,2,4,0])\n",
    "list1 = list(array1) # Array to list conversion\n",
    "\n",
    "# Explore list\n",
    "print(type(list1))\n",
    "print(list1)\n",
    "print(id(list1)) # Memory Address - Starting Address # 2536387694912\n",
    "print(len(list1))\n",
    "print(max(list1))\n",
    "print(min(list1))\n",
    "print(sum(list1))\n",
    "print(sys.getsizeof(list1)) # Memory Size"
   ]
  },
  {
   "cell_type": "code",
   "execution_count": 19,
   "id": "9be46ae4-868a-4bd2-bd77-d4ab0bc17fbc",
   "metadata": {},
   "outputs": [
    {
     "name": "stdout",
     "output_type": "stream",
     "text": [
      "[6, 7, 8, 9, 5, 6, 7, 8, 9, 6, 4, 3, 4, 5, 6, 7, 8, 9, 5, 3, 2, 3, 2, 1, 2]\n"
     ]
    }
   ],
   "source": [
    "# indexing and slicing\n",
    "array1 = array('i', [6,7,8,9,5,6,7,8,9,6,4,3,4,5,6,7,8,9,5,3,2,3,2,1,2])\n",
    "list1 = list(array1) # Array to list conversion\n",
    "print(list1)\n",
    "# indexing\n",
    "    # +ve\n",
    "    # -ve\n",
    "    # select, update, delete element - single value\n",
    "\n",
    "# slicing\n",
    "    # extract multiple values"
   ]
  },
  {
   "cell_type": "code",
   "execution_count": 20,
   "id": "aca481e4-032e-4bed-a27f-4d97f359bddb",
   "metadata": {},
   "outputs": [],
   "source": [
    "# Exploring list class"
   ]
  },
  {
   "cell_type": "code",
   "execution_count": 4,
   "id": "e12df0df-62d1-4cc4-8472-7b73e8feaa42",
   "metadata": {},
   "outputs": [
    {
     "name": "stdout",
     "output_type": "stream",
     "text": [
      "[8, 3, 2, 1, 9]\n",
      "[8, 3, 2, 1, 9, 10]\n",
      "[8, 3, 2, 1, 9, 10, 'Broadway']\n"
     ]
    }
   ],
   "source": [
    "# append(self, object, /)\n",
    "list1 = list([8,3,2,1,9])\n",
    "print(list1)\n",
    "list1.append(10)\n",
    "print(list1)\n",
    "list1.append('Broadway')\n",
    "print(list1)"
   ]
  },
  {
   "cell_type": "code",
   "execution_count": 5,
   "id": "c19c4178-d581-41e9-9cfc-9a1e6c87afe2",
   "metadata": {},
   "outputs": [
    {
     "name": "stdout",
     "output_type": "stream",
     "text": [
      "[8, 3, 2, 3, 4]\n",
      "[]\n"
     ]
    }
   ],
   "source": [
    "# clear(self, /)\n",
    "list1 = [8,3,2,3,4]\n",
    "print(list1)\n",
    "list1.clear()\n",
    "print(list1)"
   ]
  },
  {
   "cell_type": "code",
   "execution_count": 9,
   "id": "4cc9be15-e0ec-4797-8712-9b195b5223dc",
   "metadata": {},
   "outputs": [
    {
     "name": "stdout",
     "output_type": "stream",
     "text": [
      "[8, 4, 3, 2, 5]\n",
      "[8, 4, 3, 2, 5]\n",
      "[8, 4, 3, 2, 5, 30]\n",
      "[8, 4, 3, 2, 5]\n",
      "[8, 4, 3, 2, 5]\n",
      "[8, 4, 3, 2, 5]\n",
      "[8, 4, 3, 2, 5, 7]\n",
      "[8, 4, 3, 2, 5, 7]\n"
     ]
    }
   ],
   "source": [
    "# copy(self, /)\n",
    "list1 = [8,4,3,2,5]\n",
    "\n",
    "# Copy by value\n",
    "list2 = list1.copy()\n",
    "print(list1)\n",
    "print(list2)\n",
    "list1.append(30)\n",
    "print(list1)\n",
    "print(list2)\n",
    "\n",
    "# Copy by reference\n",
    "list3 = list2\n",
    "print(list2)\n",
    "print(list3)\n",
    "list3.append(7)\n",
    "print(list2)\n",
    "print(list3)"
   ]
  },
  {
   "cell_type": "code",
   "execution_count": 15,
   "id": "29a7b8f9-7d85-4a52-b1d0-6dfdfa062026",
   "metadata": {},
   "outputs": [
    {
     "name": "stdin",
     "output_type": "stream",
     "text": [
      "Enter number to search :  3\n"
     ]
    },
    {
     "name": "stdout",
     "output_type": "stream",
     "text": [
      "3 found 9 time(s).\n"
     ]
    }
   ],
   "source": [
    "# count(self, value, /)\n",
    "list1 = [6,4,4,2,3,4,6,4,3,2,3,5,6,7,4,5,6,7,3,3,4,5,2,1,4,6,7,8,9,8,4,3,2,3,5,6,7,4,5,6,7,3,3,4,5,2,1,4,6,7,8,9,8]\n",
    "num1 = int(input(\"Enter number to search : \"))\n",
    "result = list1.count(num1)\n",
    "print(\"{0} found {1} time(s).\".format(num1, result))"
   ]
  },
  {
   "cell_type": "code",
   "execution_count": 20,
   "id": "6e8a465b-a2b0-4ca7-8392-1bb4da6039f5",
   "metadata": {},
   "outputs": [
    {
     "name": "stdout",
     "output_type": "stream",
     "text": [
      "[]\n",
      "[4, 6, 3, 4, 2]\n",
      "[4, 6, 3, 4, 2, 3, 7, 8, 8, 9, 2]\n",
      "[4, 6, 3, 4, 2, 3, 7, 8, 8, 9, 2, 2, 3, 4, 5, 6, 7]\n",
      "[4, 6, 3, 4, 2, 3, 7, 8, 8, 9, 2, 2, 3, 4, 5, 6, 7, 2, 3, 4, 4, 5, 5, 6, 7, 1]\n"
     ]
    }
   ],
   "source": [
    " # extend(self, iterable, /)\n",
    "from array import array\n",
    "array1 = array('i',[4,6,3,4,2])\n",
    "list1 = []\n",
    "print(list1)\n",
    "list1.extend(array1) # array\n",
    "print(list1)\n",
    "list1.extend((3,7,8,8,9,2)) # tuple\n",
    "print(list1)\n",
    "list1.extend({5,2,3,4,5,6,7}) # set\n",
    "print(list1)\n",
    "list1.extend([2,3,4,4,5,5,6,7,1])\n",
    "print(list1)"
   ]
  },
  {
   "cell_type": "code",
   "execution_count": 34,
   "id": "b400fc06-f26a-40d5-966e-6f2e6c9cf060",
   "metadata": {},
   "outputs": [
    {
     "name": "stdin",
     "output_type": "stream",
     "text": [
      "Enter number to search :  3\n"
     ]
    },
    {
     "name": "stdout",
     "output_type": "stream",
     "text": [
      "2\n",
      "2\n",
      "2\n"
     ]
    }
   ],
   "source": [
    "# index(self, value, start=0, stop=9223372036854775807, /)\n",
    "\n",
    "list1 = [4, 6, 3, 4, 2, 3, 7, 8, 8, 9, 2, 2, 3, 4, 5, 6, 7, 1]\n",
    "\n",
    "num1 = int(input(\"Enter number to search : \"))\n",
    "result = list1.count(num1)\n",
    "for i in range(result):\n",
    "    print(list1.index(num1, 0, len(list1)-1))"
   ]
  },
  {
   "cell_type": "code",
   "execution_count": 1,
   "id": "25e9c975-0a5b-4eb9-b429-128638eaa62e",
   "metadata": {},
   "outputs": [
    {
     "name": "stdout",
     "output_type": "stream",
     "text": [
      "[4, 6, 3, 4, 2, 3, 7, 8, 8, 9, 2, 2, 3, 4, 5, 6, 7, 1]\n",
      "[4, 6, 1, 3, 4, 2, 3, 7, 8, 8, 9, 2, 2, 3, 4, 5, 6, 7, 1]\n"
     ]
    }
   ],
   "source": [
    "#  insert(self, index, object, /)\n",
    "list1 = [4, 6, 3, 4, 2, 3, 7, 8, 8, 9, 2, 2, 3, 4, 5, 6, 7, 1]\n",
    "print(list1)\n",
    "list1.insert(2, 1)\n",
    "print(list1)"
   ]
  },
  {
   "cell_type": "code",
   "execution_count": 3,
   "id": "95949c38-8e63-4f42-ae25-51571fc17604",
   "metadata": {},
   "outputs": [
    {
     "name": "stdout",
     "output_type": "stream",
     "text": [
      "[4, 6, 3, 4, 2, 3, 7, 8, 8, 9, 2, 2, 3, 4, 5, 6, 7, 1]\n",
      "[4, 6, 3, 4, 2, 3, 7, 8, 8, 9, 2, 2, 3, 4, 5, 6, 7]\n"
     ]
    }
   ],
   "source": [
    "# pop(self, index=-1, /)\n",
    "list1 = [4, 6, 3, 4, 2, 3, 7, 8, 8, 9, 2, 2, 3, 4, 5, 6, 7, 1]\n",
    "print(list1)\n",
    "list1.pop()\n",
    "print(list1)"
   ]
  },
  {
   "cell_type": "code",
   "execution_count": 8,
   "id": "2ba36c90-c6b9-4e3d-a4ed-506ecc9a97af",
   "metadata": {},
   "outputs": [
    {
     "name": "stdout",
     "output_type": "stream",
     "text": [
      "[4, 6, 3, 4, 2, 3, 7, 8, 8, 9, 2, 2, 3, 4, 5]\n",
      "3\n",
      "[4, 6, 3, 4, 3, 7, 8, 8, 9, 2, 2, 3, 4, 5]\n",
      "2\n",
      "[4, 6, 3, 4, 3, 7, 8, 8, 9, 3, 4, 5]\n"
     ]
    }
   ],
   "source": [
    "# remove(self, value, /)\n",
    "list1 = [4, 6, 3, 4, 2, 3, 7, 8, 8, 9, 2, 2, 3, 4, 5]\n",
    "print(list1)\n",
    "print(list1.count(2))\n",
    "list1.remove(2)\n",
    "print(list1)\n",
    "print(list1.count(2))\n",
    "\n",
    "# Remove value\n",
    "list1 = [4, 6, 3, 4, 2, 3, 7, 8, 8, 9, 2, 2, 3, 4, 5]\n",
    "total = list1.count(2) # value\n",
    "for i in range(total):\n",
    "    list1.remove(2) # value\n",
    "print(list1)"
   ]
  },
  {
   "cell_type": "code",
   "execution_count": 10,
   "id": "45d4e72f-57e7-4d38-9adf-e8de553964fa",
   "metadata": {},
   "outputs": [
    {
     "name": "stdout",
     "output_type": "stream",
     "text": [
      "[4, 6, 3, 4, 2, 3, 7, 8, 1, 8, 9, 2, 2, 3, 4, 5]\n",
      "[5, 4, 3, 2, 2, 9, 8, 1, 8, 7, 3, 2, 4, 3, 6, 4]\n"
     ]
    }
   ],
   "source": [
    "# reverse(self, /)\n",
    "list1 = [4, 6, 3, 4, 2, 3, 7, 8, 1, 8, 9, 2, 2, 3, 4, 5]\n",
    "print(list1)\n",
    "list1.reverse()\n",
    "print(list1)"
   ]
  },
  {
   "cell_type": "code",
   "execution_count": 11,
   "id": "d2bd2c21-d279-4b7a-8a06-cdd42cf585e6",
   "metadata": {},
   "outputs": [
    {
     "name": "stdout",
     "output_type": "stream",
     "text": [
      "[4, 6, 3, 4, 2, 3, 7, 8, 1, 8, 9, 2, 2, 3, 4, 5]\n",
      "[1, 2, 2, 2, 3, 3, 3, 4, 4, 4, 5, 6, 7, 8, 8, 9]\n",
      "[9, 8, 8, 7, 6, 5, 4, 4, 4, 3, 3, 3, 2, 2, 2, 1]\n",
      "[1, 2, 2, 2, 3, 3, 3, 4, 4, 4, 5, 6, 7, 8, 8, 9]\n"
     ]
    }
   ],
   "source": [
    "#  sort(self, /, *, key=None, reverse=False)\n",
    "list1 = [4, 6, 3, 4, 2, 3, 7, 8, 1, 8, 9, 2, 2, 3, 4, 5]\n",
    "print(list1)\n",
    "list1.sort()\n",
    "print(list1)\n",
    "list1.sort(reverse=True)\n",
    "print(list1)\n",
    "list1.sort(reverse=False)\n",
    "print(list1)"
   ]
  },
  {
   "cell_type": "code",
   "execution_count": null,
   "id": "bd96990c-3a78-46bc-820f-d884d50e8020",
   "metadata": {},
   "outputs": [],
   "source": [
    "# List with Loop\n",
    "list1 = [4, 6, 3, 4, 2, 3, 7, 8, 1, 8, 9, 2, 2, 3, 4, 5]\n"
   ]
  }
 ],
 "metadata": {
  "kernelspec": {
   "display_name": "Python 3 (ipykernel)",
   "language": "python",
   "name": "python3"
  },
  "language_info": {
   "codemirror_mode": {
    "name": "ipython",
    "version": 3
   },
   "file_extension": ".py",
   "mimetype": "text/x-python",
   "name": "python",
   "nbconvert_exporter": "python",
   "pygments_lexer": "ipython3",
   "version": "3.10.4"
  }
 },
 "nbformat": 4,
 "nbformat_minor": 5
}
