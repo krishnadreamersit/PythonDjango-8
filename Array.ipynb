{
 "cells": [
  {
   "cell_type": "markdown",
   "id": "c175a2ef-36e2-4aef-8dc7-ed25f110b752",
   "metadata": {},
   "source": [
    "## Array Class"
   ]
  },
  {
   "cell_type": "code",
   "execution_count": 3,
   "id": "87f1cdd1-f41d-4b08-937f-0df24a047eaf",
   "metadata": {},
   "outputs": [],
   "source": [
    "from array import array"
   ]
  },
  {
   "cell_type": "markdown",
   "id": "a2f669c5-becc-48c9-aff5-d69d6a08433e",
   "metadata": {},
   "source": [
    "### Decalre and initialize"
   ]
  },
  {
   "cell_type": "code",
   "execution_count": 5,
   "id": "3af220ed-c368-4465-91c8-59a8b64f550b",
   "metadata": {},
   "outputs": [
    {
     "name": "stdout",
     "output_type": "stream",
     "text": [
      "array('i', [4, 5, 6, 7, 8])\n",
      "<class 'array.array'>\n",
      "True\n",
      "2555411327840\n",
      "8\n",
      "4\n",
      "30\n",
      "5\n"
     ]
    }
   ],
   "source": [
    "arr1 = array('i', [4,5,6,7,8])\n",
    "print(arr1)\n",
    "print(type(arr1))\n",
    "print(isinstance(arr1, array)) # arr1 is a object of an array class\n",
    "print(id(arr1))\n",
    "print(max(arr1))\n",
    "print(min(arr1))\n",
    "print(sum(arr1))\n",
    "print(len(arr1))"
   ]
  },
  {
   "cell_type": "markdown",
   "id": "20ac473f-b56d-433a-8439-973472a1fcd2",
   "metadata": {},
   "source": [
    "### Exploring array class"
   ]
  },
  {
   "cell_type": "code",
   "execution_count": 1,
   "id": "d26e8f35-588f-42e1-afce-bcea8ab2501d",
   "metadata": {},
   "outputs": [],
   "source": [
    "# dir(array)\n",
    "# insert(self, i, v, /)\n",
    "# pop(self, i=-1, /)"
   ]
  },
  {
   "cell_type": "code",
   "execution_count": 13,
   "id": "d257a453-7041-453e-9ece-5ca62bd1dd15",
   "metadata": {},
   "outputs": [
    {
     "name": "stdout",
     "output_type": "stream",
     "text": [
      "array('i', [8, 4, 2, 4, 3])\n",
      "array('i', [8, 4, 2, 4, 3, 9])\n",
      "array('i', [8, 4, 2, 4, 3, 9, 7])\n"
     ]
    }
   ],
   "source": [
    "# append(self, v, /)\n",
    "arr1 = array('i', [8,4,2,4,3])\n",
    "print(arr1)\n",
    "arr1.append(9)\n",
    "print(arr1)\n",
    "arr1.append(7)\n",
    "print(arr1)"
   ]
  },
  {
   "cell_type": "code",
   "execution_count": 26,
   "id": "63410d76-e2a8-4fed-b07a-a50451773d00",
   "metadata": {},
   "outputs": [],
   "source": [
    "arr1 = array('i', [5,4,3,2,4,3,5,6,7,8,9,4,3,4,5,3,2,1,5,4,3,2,4,3,5,6,7,8,9,4,3,4,5,3,2,1,5,4,3,2,4,3,5,6,7,8,9,4,3,4,5,3,2,1,5,4,3,2,4,3,5,6,7,8,9,4,3,4,5,3,2,1])"
   ]
  },
  {
   "cell_type": "code",
   "execution_count": 27,
   "id": "b328fc3e-98a1-4d7a-ac0c-90b75ac7bc9f",
   "metadata": {},
   "outputs": [
    {
     "name": "stdout",
     "output_type": "stream",
     "text": [
      "8\n",
      "16\n",
      "0\n",
      "4\n"
     ]
    }
   ],
   "source": [
    "# count(self, v, /)->int\n",
    "#arr1 = array('i', [5,4,3,2,4,3,5,6,7,8,9,4,3,4,5,3,2,1,5,4,3,2,4,3,5,6,7,8,9,4,3,4,5,3,2,1,5,4,3,2,4,3,5,6,7,8,9,4,3,4,5,3,2,1,5,4,3,2,4,3,5,6,7,8,9,4,3,4,5,3,2,1])\n",
    "reuslt = arr1.count(2)\n",
    "print(reuslt)\n",
    "reuslt = arr1.count(4)\n",
    "print(reuslt)\n",
    "reuslt = arr1.count(10)\n",
    "print(reuslt)\n",
    "reuslt = arr1.count(1)\n",
    "print(reuslt)"
   ]
  },
  {
   "cell_type": "code",
   "execution_count": 35,
   "id": "8ddfd665-49b1-4324-a984-0575155d2e8d",
   "metadata": {},
   "outputs": [
    {
     "name": "stdout",
     "output_type": "stream",
     "text": [
      "5\n",
      "12\n",
      "17\n",
      "23\n",
      "31\n",
      "array('i', [5, 6, 7, 8, 2, 6, 7, 8, 9, 2, 1, 4, 6, 1, 2, 3, 4, 1, 2, 3, 4, 5, 6, 5, 6, 7, 8, 4, 3, 3, 2])\n"
     ]
    }
   ],
   "source": [
    "# extend(self, bb, /)\n",
    "arr1 = array('i', [5,6,7,8,2])\n",
    "print(len(arr1))# 5\n",
    "arr1.extend([6,7,8,9,2,1,4]) # List\n",
    "print(len(arr1))\n",
    "arr1.extend((6,1,2,3,4)) # tuple\n",
    "print(len(arr1))\n",
    "arr1.extend({5,6,4,3,2,2,1,5}) # set\n",
    "print(len(arr1))\n",
    "arr2 = array('i', [5,6,7,8,4,3,3,2]) # array\n",
    "arr1.extend(arr2)\n",
    "print(len(arr1))\n",
    "print(arr1)"
   ]
  },
  {
   "cell_type": "code",
   "execution_count": 49,
   "id": "94d02e9f-2ee4-4bd4-9653-e360577adafa",
   "metadata": {},
   "outputs": [
    {
     "name": "stdout",
     "output_type": "stream",
     "text": [
      "10\n",
      "3\n",
      "2\n",
      "5\n",
      "9\n"
     ]
    }
   ],
   "source": [
    "# index(self, v, start=0, stop=9223372036854775807, /) -> int\n",
    "arr1 = array('i', [5,3,1,4,2,1,4,7,9,1])\n",
    "print(len(arr1))\n",
    "print(arr1.count(1))\n",
    "\n",
    "result = arr1.index(1, 0, len(arr1))\n",
    "print(result)\n",
    "result = arr1.index(1, result+1, len(arr1))\n",
    "print(result)\n",
    "result = arr1.index(1, result+1, len(arr1))\n",
    "print(result)\n"
   ]
  },
  {
   "cell_type": "code",
   "execution_count": 11,
   "id": "bb9c025f-7087-4348-a64e-a9be6f62deb3",
   "metadata": {},
   "outputs": [
    {
     "name": "stdout",
     "output_type": "stream",
     "text": [
      "array('i', [5, 2, 7, 8, 4, 3, 3, 2])\n",
      "2\n",
      "array('i', [5, 7, 8, 4, 3, 3])\n"
     ]
    }
   ],
   "source": [
    "# remove(self, v, /)\n",
    "arr2 = array('i', [5,2,7,8,4,3,3,2])\n",
    "print(arr2)\n",
    "# arr2.remove(200) # ValueError: array.remove(x): x not in array\n",
    "# print(arr2)\n",
    "value = 2\n",
    "result = arr2.count(value)\n",
    "print(result)\n",
    "if result>=1:\n",
    "    for i in range(result):\n",
    "        arr2.remove(value)\n",
    "print(arr2)"
   ]
  },
  {
   "cell_type": "code",
   "execution_count": 15,
   "id": "56db138c-4510-4527-b997-3d1d21a5e458",
   "metadata": {},
   "outputs": [
    {
     "name": "stdout",
     "output_type": "stream",
     "text": [
      "array('i', [5, 2, 7, 8, 4, 3, 3, 2])\n",
      "array('i', [2, 3, 3, 4, 8, 7, 2, 5])\n"
     ]
    }
   ],
   "source": [
    "# reverse(self, /)\n",
    "arr1 = array('i', [5, 2, 7, 8, 4, 3, 3, 2])\n",
    "print(arr1)\n",
    "arr1.reverse()\n",
    "print(arr1)"
   ]
  },
  {
   "cell_type": "code",
   "execution_count": 19,
   "id": "8ede3422-4ba4-4b52-bf25-af20c06d9f95",
   "metadata": {},
   "outputs": [
    {
     "name": "stdout",
     "output_type": "stream",
     "text": [
      "4\n",
      "i\n"
     ]
    }
   ],
   "source": [
    "# itemsize, typecode\n",
    "arr1 = array('i', [5, 2, 7, 8, 4, 3, 3, 2])\n",
    "print(arr1.itemsize)  # Memory \n",
    "print(arr1.typecode)  # type"
   ]
  },
  {
   "cell_type": "code",
   "execution_count": null,
   "id": "471350b3-6002-4fb8-b67f-492db6f4bc58",
   "metadata": {},
   "outputs": [],
   "source": [
    "# Task-1\n",
    "\"\"\"\n",
    "---------------------------\n",
    "Main Menu\n",
    "---------------------------\n",
    "1. ADD\n",
    "2. DISPLAY ALL\n",
    "3. SEARCH\n",
    "4. SEARCH AND EDIT\n",
    "5. SEARCH AND DELETE\n",
    "0. EXIT\n",
    "---------------------------\n",
    "ENTER YOUR CHOICE : _1\n",
    "---------------------------\n",
    "ENTER VALUE: _3\n",
    "---------------------------\n",
    "Main Menu\n",
    "---------------------------\n",
    "1. ADD\n",
    "2. DISPLAY ALL\n",
    "3. SEARCH\n",
    "4. SEARCH AND EDIT\n",
    "5. SEARCH AND DELETE\n",
    "0. EXIT\n",
    "---------------------------\n",
    "ENTER YOUR CHOICE : 2\n",
    "---------------------------\n",
    "3\n",
    "---------------------------\n",
    "Main Menu\n",
    "---------------------------\n",
    "1. ADD\n",
    "2. DISPLAY ALL\n",
    "3. SEARCH\n",
    "4. SEARCH AND EDIT\n",
    "5. SEARCH AND DELETE\n",
    "0. EXIT\n",
    "---------------------------\n",
    "ENTER YOUR CHOICE : _3\n",
    "---------------------------\n",
    "ENTER NUMBER TO SEARCH : 3\n",
    "3 FOUND AT 0 INDEX\n",
    "\"\"\""
   ]
  },
  {
   "cell_type": "code",
   "execution_count": 1,
   "id": "675d5ebf-205e-4c1e-ab94-769443e00e1c",
   "metadata": {},
   "outputs": [],
   "source": [
    "# Solution\n",
    "def showMainMenu():\n",
    "    print(\"-----------------------\")\n",
    "    print(\"Main Manu\")\n",
    "    print(\"-----------------------\")\n",
    "    print(\"1. ADD ITEM\")\n",
    "    print(\"2. DISPLAY ALL ITEMS\")\n",
    "    print(\"0. EXIT\")\n",
    "    print(\"-----------------------\")\n",
    "\n",
    "def readOption():\n",
    "    choice = int(input(\"Enter your choice : \"))\n",
    "    return choice\n",
    "\n",
    "def readValue():\n",
    "    value = int(input(\"Enter any number (int) : \"))\n",
    "    return value"
   ]
  },
  {
   "cell_type": "code",
   "execution_count": null,
   "id": "66cb0282-a388-4cb1-bb18-43652a16a84c",
   "metadata": {},
   "outputs": [
    {
     "name": "stdout",
     "output_type": "stream",
     "text": [
      "-----------------------\n",
      "Main Manu\n",
      "-----------------------\n",
      "1. ADD ITEM\n",
      "2. DISPLAY ALL ITEMS\n",
      "0. EXIT\n",
      "-----------------------\n"
     ]
    }
   ],
   "source": [
    "from array import array\n",
    "\n",
    "arr1 = array('i', [])\n",
    "while(True):\n",
    "    showMainMenu()\n",
    "    choice = readOption()\n",
    "    if(choice==1):\n",
    "        value = readValue()\n",
    "        arr1.append(value)\n",
    "        print(\"Add new value on array successfully\")\n",
    "    elif(choice==2):\n",
    "        print(\"DISPLAY ALL\")\n",
    "        for item in arr1:\n",
    "            print(item, end=' ')\n",
    "        print(\"\")\n",
    "    elif(choice==0):\n",
    "        print(\"bye!\")\n",
    "        break"
   ]
  },
  {
   "cell_type": "code",
   "execution_count": null,
   "id": "0b5fff6a-858d-4670-942f-095dddf765ea",
   "metadata": {},
   "outputs": [],
   "source": []
  }
 ],
 "metadata": {
  "kernelspec": {
   "display_name": "Python 3 (ipykernel)",
   "language": "python",
   "name": "python3"
  },
  "language_info": {
   "codemirror_mode": {
    "name": "ipython",
    "version": 3
   },
   "file_extension": ".py",
   "mimetype": "text/x-python",
   "name": "python",
   "nbconvert_exporter": "python",
   "pygments_lexer": "ipython3",
   "version": "3.10.4"
  }
 },
 "nbformat": 4,
 "nbformat_minor": 5
}
