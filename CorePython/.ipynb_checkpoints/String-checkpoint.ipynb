{
 "cells": [
  {
   "cell_type": "markdown",
   "id": "6e10099c-b4fd-4a00-a5fa-d9a198e99865",
   "metadata": {},
   "source": [
    "## String"
   ]
  },
  {
   "cell_type": "code",
   "execution_count": 9,
   "id": "5198038e-8645-4ce6-9641-f281b035165e",
   "metadata": {},
   "outputs": [
    {
     "name": "stdout",
     "output_type": "stream",
     "text": [
      "[4, 5, 6, 7, 7, 8]\n",
      "<class 'str'>\n"
     ]
    }
   ],
   "source": [
    "from array import array\n",
    "\n",
    "# Decalre and initialize\n",
    "str1 = str()\n",
    "str1 = str(\"Broadway Infosys Nepal\")\n",
    "str1 = 'Broadway Infosys Nepal' # Single line\n",
    "str1 = \"Broadway Infosys Nepal\" # Single line\n",
    "str1 = \"\"\"\n",
    "Broadway Infosys Nepal\n",
    "Kathmandu, Nepal\n",
    "Tel: 4446326\n",
    "Email: 23523535\n",
    "\"\"\" # Multi-line\n",
    "\n",
    "arr1 = array('i', [3,4,3,2,4])\n",
    "str1 = str(arr1) # Array to String\n",
    "\n",
    "list1 = list([4,5,6,7,7,8])\n",
    "str1 = str(list1) # list to string\n",
    "\n",
    "# tuple to string\n",
    "# set to string\n",
    "# dict to string\n",
    "\n",
    "print(str1)\n",
    "print(type(str1))"
   ]
  },
  {
   "cell_type": "code",
   "execution_count": 1,
   "id": "bd1d0e49-b49d-4f0e-9b67-a11629d3226b",
   "metadata": {},
   "outputs": [
    {
     "name": "stdout",
     "output_type": "stream",
     "text": [
      "Broadway Infosys Nepal\n",
      "<class 'str'>\n",
      "False\n",
      "False\n",
      "True\n",
      "1948481355520\n",
      "71\n",
      "22\n",
      " \n",
      "y\n"
     ]
    }
   ],
   "source": [
    "import sys\n",
    "# Explore String\n",
    "str1 = str(\"Broadway Infosys Nepal\")\n",
    "print(str1)\n",
    "print(type(str1))\n",
    "print(isinstance(str1, int))\n",
    "print(isinstance(str1, float))\n",
    "print(isinstance(str1, str))\n",
    "print(id(str1))\n",
    "print(sys.getsizeof(str1))\n",
    "print(len(str1))\n",
    "print(min(str1))\n",
    "print(max(str1))"
   ]
  },
  {
   "cell_type": "code",
   "execution_count": 2,
   "id": "888f7761-82aa-4b15-8c27-cba9e5855d41",
   "metadata": {},
   "outputs": [
    {
     "name": "stdout",
     "output_type": "stream",
     "text": [
      "a\n",
      "a\n",
      "Broadway\n",
      "yawdaorB\n",
      "1948482128944\n",
      "1948482128944\n"
     ]
    }
   ],
   "source": [
    "# Indexing and Slicing\n",
    "str1 = str(\"Broadway\")\n",
    "#  B  r  o  a  d  w  a  y\n",
    "#  0  1  2  3  4  5  6  7\n",
    "# -8 -7 -6 -5 -4 -3 -2 -1\n",
    "\n",
    "# Accesing value\n",
    "print(str1[3])\n",
    "print(str1[-5])\n",
    "\n",
    "# Update value\n",
    "# str1[1]='R' # TypeError: 'str' object does not support item assignment\n",
    "# print(str1)\n",
    "\n",
    "# Note:\n",
    "    # str -> list\n",
    "    # list -> update\n",
    "    # list -> str\n",
    "\n",
    "# list1 = list(str1)\n",
    "# print(list1)\n",
    "# list1[1]='R'\n",
    "# print(list1)\n",
    "# str1 = str(list1)\n",
    "# print(str1)\n",
    "\n",
    "# Slicing\n",
    "str2 = str1[::]\n",
    "print(str2)\n",
    "str2 = str1[::-1]\n",
    "print(str2)\n",
    "\n",
    "# Copy\n",
    "str3 = str1 # Copy by reference\n",
    "print(id(str1))\n",
    "print(id(str3))\n",
    "\n",
    "# str4 = str1.copy() AttributeError: 'str' object has no attribute 'copy'\n",
    "# print(id(str1))\n",
    "# print(id(str4))"
   ]
  },
  {
   "cell_type": "code",
   "execution_count": 29,
   "id": "c95f3ba0-4fb8-4ef2-ab96-d5a8f4d980d9",
   "metadata": {},
   "outputs": [],
   "source": [
    "# Functions of str class"
   ]
  },
  {
   "cell_type": "code",
   "execution_count": 8,
   "id": "56c79f50-c167-42a6-bb56-29b247f7071d",
   "metadata": {},
   "outputs": [
    {
     "name": "stdout",
     "output_type": "stream",
     "text": [
      "django views are Python functions that takes http requests and returns http response, like HTML documents. A web page that uses Django is full of views with ...\n",
      "\n",
      "Django views are python functions that takes http requests and returns http response, like html documents. a web page that uses django is full of views with ...\n"
     ]
    }
   ],
   "source": [
    "# capitalize(self, /)\n",
    "str1 = str(\"django views are Python functions that takes http requests and returns http response, like HTML documents. A web page that uses Django is full of views with ...\")\n",
    "print(str1)\n",
    "print()\n",
    "print(str1.capitalize())"
   ]
  },
  {
   "cell_type": "code",
   "execution_count": 11,
   "id": "f037b8c1-ebf7-4a26-aceb-f6f629066d95",
   "metadata": {},
   "outputs": [
    {
     "name": "stdout",
     "output_type": "stream",
     "text": [
      "admIN ADMin\n",
      "admin admin\n"
     ]
    }
   ],
   "source": [
    "# casefold(self, /)\n",
    "str1 = \"admIN\"\n",
    "str2 = \"ADMin\"\n",
    "print(str1, str2)\n",
    "str1 = str1.casefold()\n",
    "str2 = str2.casefold()\n",
    "print(str1, str2)"
   ]
  },
  {
   "cell_type": "code",
   "execution_count": 30,
   "id": "f3e8ea0e-397f-4800-b5da-b8198bd0a7f2",
   "metadata": {},
   "outputs": [
    {
     "name": "stdout",
     "output_type": "stream",
     "text": [
      "******Broadway******\n",
      "Broadway************\n",
      "************Broadway\n"
     ]
    }
   ],
   "source": [
    "# center(self, width, fillchar=' ', /)\n",
    "str1 = \"Broadway\"\n",
    "str1 = str1.center(20, \"*\")\n",
    "print(str1)\n",
    "\n",
    "# ljust(self, width, fillchar=' ', /)\n",
    "str1 = \"Broadway\"\n",
    "str1 = str1.ljust(20, \"*\")\n",
    "print(str1)\n",
    "\n",
    "# rjust(self, width, fillchar=' ', /)\n",
    "str1 = \"Broadway\"\n",
    "str1 = str1.rjust(20, \"*\")\n",
    "print(str1)"
   ]
  },
  {
   "cell_type": "code",
   "execution_count": 24,
   "id": "6254ce41-9720-4d3f-892e-41ec2379f411",
   "metadata": {},
   "outputs": [
    {
     "name": "stdout",
     "output_type": "stream",
     "text": [
      "\n",
      "There are many variations of passages of Lorem Ipsum available, but the majority have suffered alteration in some form, by injected humour, or randomised words which don't look even slightly believable. If you are going to use a passage of Lorem Ipsum, you need to be sure there isn't anything embarrassing hidden in the middle of text. All the Lorem Ipsum generators on the Internet tend to repeat predefined chunks as necessary, making this the first true generator on the Internet. It uses a dictionary of over 200 Latin words, combined with a handful of model sentence structures, to generate Lorem Ipsum which looks reasonable. The generated Lorem Ipsum is therefore always free from repetition, injected humour, or non-characteristic words etc.\n",
      "\n",
      "5\n"
     ]
    }
   ],
   "source": [
    "# count(sub[, start[, end]]) -> int\n",
    "str1 = \"\"\"\n",
    "There are many variations of passages of Lorem Ipsum available, but the majority have suffered alteration in some form, by injected humour, or randomised words which don't look even slightly believable. If you are going to use a passage of Lorem Ipsum, you need to be sure there isn't anything embarrassing hidden in the middle of text. All the Lorem Ipsum generators on the Internet tend to repeat predefined chunks as necessary, making this the first true generator on the Internet. It uses a dictionary of over 200 Latin words, combined with a handful of model sentence structures, to generate Lorem Ipsum which looks reasonable. The generated Lorem Ipsum is therefore always free from repetition, injected humour, or non-characteristic words etc.\n",
    "\"\"\"\n",
    "print(str1)\n",
    "print(str1.count(\"is\"))"
   ]
  },
  {
   "cell_type": "code",
   "execution_count": 17,
   "id": "99ee5f07-0612-4786-8638-4d8c32736e88",
   "metadata": {},
   "outputs": [
    {
     "name": "stdout",
     "output_type": "stream",
     "text": [
      "398\n"
     ]
    }
   ],
   "source": [
    "book1 = open(\"book1.txt\")\n",
    "contents = book1.readlines()\n",
    "# print(contents)\n",
    "contents = str(contents)\n",
    "print(contents.count(\"I\"))\n",
    "\n",
    "# replace the content of book1.txt by contents\n",
    "# book1.writelines(contents)\n",
    "# book1.close()"
   ]
  },
  {
   "cell_type": "code",
   "execution_count": 62,
   "id": "ff4824a2-9c1b-4371-ba42-d518fa1155ce",
   "metadata": {},
   "outputs": [
    {
     "name": "stdout",
     "output_type": "stream",
     "text": [
      "True\n",
      "True\n"
     ]
    }
   ],
   "source": [
    "# endswith(suffix[, start[, end]]) -> bool\n",
    "str1 = \"Broadway Infosys Nepal;\"\n",
    "print(str1.endswith(\";\", 0, len(str1)))\n",
    "\n",
    "# startswith(...)\n",
    "str1 = \"-Broadway Infosys Nepal;\"\n",
    "print(str1.startswith(\"-\"))"
   ]
  },
  {
   "cell_type": "code",
   "execution_count": 25,
   "id": "71de9ea4-bf14-4a02-8d8a-6d62ec6a065a",
   "metadata": {},
   "outputs": [
    {
     "name": "stdout",
     "output_type": "stream",
     "text": [
      "SN\tNAME\tADDRESS\n",
      "SN              NAME            ADDRESS\n"
     ]
    }
   ],
   "source": [
    "# expandtabs(self, /, tabsize=8)\n",
    "str1=\"SN\\tNAME\\tADDRESS\"\n",
    "print(str1)\n",
    "print(str1.expandtabs(16))"
   ]
  },
  {
   "cell_type": "code",
   "execution_count": 70,
   "id": "6e5af82d-74a5-48cc-841d-41b39ff10bac",
   "metadata": {},
   "outputs": [
    {
     "name": "stdout",
     "output_type": "stream",
     "text": [
      "Why do we use it? It is a long established fact that a reader will be distracted by the readable content of a page when looking at its layout. The point of using Lorem Ipsum is that it has a more-or-less normal distribution of letters, as opposed to using 'Content here, content here', making it look like readable English. Many desktop publishing packages and web page editors now use Lorem Ipsum as their default model text, and a search for 'lorem ipsum' will uncover many web sites still in their infancy. Various versions have evolved over the years, sometimes by accident, sometimes on purpose (injected humour and the like).\n",
      "Result 0\n"
     ]
    }
   ],
   "source": [
    "# find(sub[, start[, end]]) -> int (strat from left)\n",
    "# rfind(sub[, start[, end]]) -> int (start from right)\n",
    "str1 = \"\"\"Why do we use it? It is a long established fact that a reader will be distracted by the readable content of a page when looking at its layout. The point of using Lorem Ipsum is that it has a more-or-less normal distribution of letters, as opposed to using 'Content here, content here', making it look like readable English. Many desktop publishing packages and web page editors now use Lorem Ipsum as their default model text, and a search for 'lorem ipsum' will uncover many web sites still in their infancy. Various versions have evolved over the years, sometimes by accident, sometimes on purpose (injected humour and the like).\"\"\"\n",
    "print(str1)\n",
    "str2 = \"xyz \"\n",
    "count = str1.count(str2)\n",
    "print(\"Result\", count)\n",
    "positions = []\n",
    "if(count>=1):\n",
    "    result = -1\n",
    "    for i in range(count):\n",
    "        result = str1.find(str2, result+1, len(str1))\n",
    "        positions.append(result)\n",
    "        print(result)\n",
    "    print(positions) # replace (edit), & delete, access [84, 545, 621]\n",
    "    "
   ]
  },
  {
   "cell_type": "code",
   "execution_count": 69,
   "id": "e2e8bf09-4ffe-47da-aab2-2757f11be3e1",
   "metadata": {},
   "outputs": [
    {
     "name": "stdout",
     "output_type": "stream",
     "text": [
      "id : KTM, name Broadway, address 1\n"
     ]
    }
   ],
   "source": [
    "# format(*args, **kwargs) -> str\n",
    "\n",
    "sid = 1\n",
    "name=\"Broadway\"\n",
    "address=\"KTM\"\n",
    "\n",
    "# print(\"id :\", sid)\n",
    "# print(\"name :\", name)\n",
    "# print(\"address : \", address)\n",
    "# print(\"id : \", sid, \"name : \", name, \"address : \", address)\n",
    "# print(\"id : \"+str(sid)+\"\\tname : \"+name+\"\\taddress : \"+address)\n",
    "# print(\"id : \"+str(sid)+\"\\nname : \"+name+\"\\naddress : \"+address)\n",
    "\n",
    "print(\"id : {2}, name {1}, address {0}\".format(sid, name, address))\n"
   ]
  },
  {
   "cell_type": "code",
   "execution_count": 80,
   "id": "12fc334e-55fa-458b-938a-65b9d31e1793",
   "metadata": {},
   "outputs": [
    {
     "name": "stdout",
     "output_type": "stream",
     "text": [
      "6\n"
     ]
    }
   ],
   "source": [
    "# index(sub[, start[, end]]) -> int (left to right)\n",
    "# rindex(sub[, start[, end]]) -> int (right to left)\n",
    "\n",
    "str1 = \"There is no one who loves pain itself\"\n",
    "str2 = \"The \"\n",
    "str3 = \"is \"\n",
    "\n",
    "# result1 = str1.find(str2, 0, len(str1)) # -1 if not found\n",
    "#\n",
    "result2 = str1.index(str3, 0, len(str1)) # ValueError: substring not found (if not found)\n",
    "\n",
    "# print(result1)\n",
    "# print(result2)"
   ]
  },
  {
   "cell_type": "code",
   "execution_count": 20,
   "id": "fcde3549-406e-4d2d-b939-77ffcf5e2621",
   "metadata": {},
   "outputs": [
    {
     "name": "stdout",
     "output_type": "stream",
     "text": [
      "True\n",
      "False\n",
      "True\n",
      "True\n",
      "True\n",
      "True\n",
      "True\n",
      "True\n",
      "True\n",
      "True\n",
      "True\n",
      "True\n"
     ]
    }
   ],
   "source": [
    "###### isalnum(self, /)\n",
    "# isalpha(self, /)\n",
    "# isascii(self, /)\n",
    "# isdecimal(self, /)\n",
    "# isdigit(self, /)\n",
    "# isidentifier(self, /)\n",
    "# islower(self, /)\n",
    "# isnumeric(self, /)\n",
    "# isprintable(self, /)\n",
    "# isspace(self, /)\n",
    "# istitle(self, /)\n",
    "# isupper(self, /)\n",
    "\n",
    "#Examples\n",
    "str1 = '123ABC';\n",
    "print(str1.isalnum())\n",
    "\n",
    "str1 = '123ABC';\n",
    "print(str1.isalpha())\n",
    "\n",
    "str1 = '123ABC';\n",
    "print(str1.isascii())\n",
    "\n",
    "str1 = '123';\n",
    "print(str1.isdecimal()) # int->True\n",
    "\n",
    "str1 = '123';\n",
    "print(str1.isdigit()) # int->True\n",
    "\n",
    "# isidentifier(self, /)\n",
    "str1 = 'class';\n",
    "print(str1.isidentifier())\n",
    "\n",
    "# islower(self, /)\n",
    "str1 = 'class';\n",
    "print(str1.islower())\n",
    "\n",
    "# isnumeric(self, /)\n",
    "str1 = '123';\n",
    "print(str1.isnumeric())\n",
    "\n",
    "# isprintable(self, /)\n",
    "str1 = '123';\n",
    "print(str1.isprintable())\n",
    "\n",
    "# isspace(self, /)\n",
    "str1 = ' ';\n",
    "print(str1.isspace())\n",
    "\n",
    "# istitle(self, /)\n",
    "str1 = 'Abc';\n",
    "print(str1.istitle())\n",
    "\n",
    "# isupper(self, /)\n",
    "str1 = 'ABC';\n",
    "print(str1.isupper())"
   ]
  },
  {
   "cell_type": "code",
   "execution_count": 25,
   "id": "e14b65ba-a706-42dd-956f-a2bc9052cd53",
   "metadata": {},
   "outputs": [
    {
     "name": "stdout",
     "output_type": "stream",
     "text": [
      "Raj,Kiran,Rajesh,Uttam\n",
      "['Raj', 'Kiran', 'Rajesh', 'Uttam']\n"
     ]
    }
   ],
   "source": [
    "# join(self, iterable, /) -> str\n",
    "# iterable - Collection (array, list, tuple, set)\n",
    "list1 = ['Raj', 'Kiran','Rajesh','Uttam']\n",
    "str1 = ','.join(list1)\n",
    "print(str1)\n",
    "\n",
    "# split(self, separator, /) -> list (left to right)\n",
    "# rsplit(self, /, sep=None, maxsplit=-1) (right to left)\n",
    "str2 = str1.split(',') \n",
    "print(str2)"
   ]
  },
  {
   "cell_type": "code",
   "execution_count": 38,
   "id": "a9b21651-8beb-46b6-b615-d478f0359a97",
   "metadata": {},
   "outputs": [
    {
     "name": "stdout",
     "output_type": "stream",
     "text": [
      "broadway infosys nepal\n",
      "BROADWAY INFOSYS NEPAL\n",
      "Broadway Infosys Nepal\n"
     ]
    }
   ],
   "source": [
    "# lower(self, /)\n",
    "str1 = \"Broadway InfoSys Nepal\"\n",
    "str2 = str1.lower()\n",
    "print(str2)\n",
    "\n",
    "# upper(self, /)\n",
    "str2 = str1.upper()\n",
    "print(str2)\n",
    "\n",
    "# title(self, /)\n",
    "str2 = str1.title()\n",
    "print(str2)\n",
    "\n",
    "# swapcase(self, /)\n"
   ]
  },
  {
   "cell_type": "code",
   "execution_count": 43,
   "id": "fd4f1995-57b4-41cb-b5f4-9f5c3c30f65b",
   "metadata": {},
   "outputs": [
    {
     "name": "stdout",
     "output_type": "stream",
     "text": [
      " Broadway\n",
      "Broadway\n",
      "Broadway \n",
      "Broadway\n",
      " Broadway \n",
      "Broadway\n"
     ]
    }
   ],
   "source": [
    "# lstrip(self, chars=None, /)\n",
    "# rstrip(self, chars=None, /)\n",
    "# strip(self, chars=None, /)\n",
    "str1 =\" Broadway\"\n",
    "str2 = str1.lstrip()\n",
    "print(str1)\n",
    "print(str2)\n",
    "\n",
    "str1 =\"Broadway \"\n",
    "str2 = str1.rstrip()\n",
    "print(str1)\n",
    "print(str2)\n",
    "\n",
    "str1 =\" Broadway \"\n",
    "str2 = str1.strip()\n",
    "print(str1)\n",
    "print(str2)\n"
   ]
  },
  {
   "cell_type": "code",
   "execution_count": 44,
   "id": "249bd395-22dc-4cd8-b98f-c784452c3569",
   "metadata": {},
   "outputs": [
    {
     "name": "stdout",
     "output_type": "stream",
     "text": [
      "('Broadway', ',', ' InfoSys, Nepal')\n"
     ]
    }
   ],
   "source": [
    "# partition(self, sep, /) (left to right)\n",
    "# rpartition(self, sep, /) (right to left)\n",
    "str1 =\"Broadway, InfoSys, Nepal\"\n",
    "str2 = str1.partition(',')\n",
    "print(str2)"
   ]
  },
  {
   "cell_type": "code",
   "execution_count": 47,
   "id": "d6471806-2a01-4f5e-8646-5c16b07b3707",
   "metadata": {},
   "outputs": [
    {
     "name": "stdout",
     "output_type": "stream",
     "text": [
      "Broadway\n",
      "Broadway\n"
     ]
    }
   ],
   "source": [
    "#  removeprefix(self, prefix, /)\n",
    "str1 =\";;Broadway\"\n",
    "str2 = str1.removeprefix(';;')\n",
    "print(str2)\n",
    "\n",
    "str1 =\"Broadway;;\"\n",
    "str2 = str1.removesuffix(\";;\")\n",
    "print(str2)"
   ]
  },
  {
   "cell_type": "code",
   "execution_count": 54,
   "id": "bf457522-437c-472a-84ac-48a0060e84ab",
   "metadata": {},
   "outputs": [
    {
     "name": "stdout",
     "output_type": "stream",
     "text": [
      "What is Lorem Ipsum? Lorem Ipsum is simply dummy text of the printing and typesetting industry. Lorem Ipsum has been the industry's standard dummy text ever since the 1500s, when an unknown printer took a galley of type and scrambled it to make a type specimen book. It has survived not only five centuries, but also the leap into electronic typesetting, remaining essentially unchanged. It was popularised in the 1960s with the release of Letraset sheets containing Lorem Ipsum passages, and more recently with desktop publishing software like Aldus PageMaker including versions of Lorem Ipsum.\n",
      "\n",
      "What was Lorem Ipsum? Lorem Ipsum was simply dummy text of the printing and typesetting industry. Lorem Ipsum has been the industry's standard dummy text ever since the 1500s, when an unknown printer took a galley of type and scrambled it to make a type specimen book. It has survived not only five centuries, but also the leap into electronic typesetting, remaining essentially unchanged. It was popularwased in the 1960s with the release of Letraset sheets containing Lorem Ipsum passages, and more recently with desktop publwashing software like Aldus PageMaker including versions of Lorem Ipsum.\n"
     ]
    }
   ],
   "source": [
    "# replace(self, old, new, count=-1, /)\n",
    "str1 = \"\"\"What is Lorem Ipsum? Lorem Ipsum is simply dummy text of the printing and typesetting industry. Lorem Ipsum has been the industry's standard dummy text ever since the 1500s, when an unknown printer took a galley of type and scrambled it to make a type specimen book. It has survived not only five centuries, but also the leap into electronic typesetting, remaining essentially unchanged. It was popularised in the 1960s with the release of Letraset sheets containing Lorem Ipsum passages, and more recently with desktop publishing software like Aldus PageMaker including versions of Lorem Ipsum.\"\"\"\n",
    "print(str1)\n",
    "print()\n",
    "str2 = str1.replace(\"is\", \"was\")\n",
    "print(str2)"
   ]
  },
  {
   "cell_type": "code",
   "execution_count": 57,
   "id": "d0a67e20-faea-4630-9bfd-a3274eeef008",
   "metadata": {},
   "outputs": [
    {
     "name": "stdout",
     "output_type": "stream",
     "text": [
      "['', 'Broadway ', 'InfoSys ', 'Nepal']\n"
     ]
    }
   ],
   "source": [
    "# splitlines(self, /, keepends=False)\n",
    "str1 = \"\"\"\n",
    "Broadway \n",
    "InfoSys \n",
    "Nepal\n",
    "\"\"\"\n",
    "str2 = str1.splitlines()\n",
    "print(str2)"
   ]
  },
  {
   "cell_type": "code",
   "execution_count": null,
   "id": "b23778b7-969b-49f1-87d5-22f48f2a6e49",
   "metadata": {},
   "outputs": [],
   "source": []
  }
 ],
 "metadata": {
  "kernelspec": {
   "display_name": "Python 3 (ipykernel)",
   "language": "python",
   "name": "python3"
  },
  "language_info": {
   "codemirror_mode": {
    "name": "ipython",
    "version": 3
   },
   "file_extension": ".py",
   "mimetype": "text/x-python",
   "name": "python",
   "nbconvert_exporter": "python",
   "pygments_lexer": "ipython3",
   "version": "3.10.4"
  }
 },
 "nbformat": 4,
 "nbformat_minor": 5
}
