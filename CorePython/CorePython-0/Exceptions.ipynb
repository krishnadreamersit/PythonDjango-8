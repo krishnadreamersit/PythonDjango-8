{
 "cells": [
  {
   "cell_type": "code",
   "execution_count": 2,
   "id": "a6b0df99-2eec-4bf7-b761-c4c7ec5025d9",
   "metadata": {},
   "outputs": [],
   "source": [
    "# Error/Exception Handling\n",
    "    # Syntax Error\n",
    "    # Runtime Error\n",
    "    # Logical Error"
   ]
  },
  {
   "cell_type": "code",
   "execution_count": 10,
   "id": "551a7c2d-e0eb-4615-a37b-e98baac7ade7",
   "metadata": {},
   "outputs": [
    {
     "name": "stdout",
     "output_type": "stream",
     "text": [
      "1245\n",
      "1245\n",
      "57\n",
      "57\n"
     ]
    }
   ],
   "source": [
    "# Syntax Error\n",
    "# print(Hello) #NameError: name 'Hello' is not defined\n",
    "# print(\"Hello\")\n",
    "\n",
    "# print(\"Hello) # SyntaxError: unterminated string literal (detected at line 5)\n",
    "# print(\"Hello\")\n",
    "\n",
    "# print(\"12\"+45) # TypeError: can only concatenate str (not \"int\") to str\n",
    "print(\"12\"+\"45\")\n",
    "print(\"12\"+str(45))\n",
    "print(int(\"12\")+45)\n",
    "print(12+45)"
   ]
  },
  {
   "cell_type": "code",
   "execution_count": 1,
   "id": "4e3355b9-af9a-4390-aa1f-f80a17318ae2",
   "metadata": {},
   "outputs": [],
   "source": [
    "# Runtime Error\n",
    "    # Power Off\n",
    "    # Harddisk Error/Full\n",
    "    # Network Error\n",
    "\n",
    "# User Level/Program Level\n",
    "try:\n",
    "    pass\n",
    "except:\n",
    "    pass\n",
    "finally:\n",
    "    pass\n",
    "\n",
    "#Example\n",
    "# decalre variables\n",
    "try:\n",
    "    # entry gateway of program\n",
    "    # input, process, output\n",
    "    pass\n",
    "except:\n",
    "    # print error message\n",
    "    pass\n",
    "finally:\n",
    "    # exit gateway of program\n",
    "    # delete variable, close file, network etc\n",
    "    pass\n",
    "\n"
   ]
  },
  {
   "cell_type": "code",
   "execution_count": 9,
   "id": "dc0f7bf8-73c6-4535-8b44-a86fd4108a72",
   "metadata": {},
   "outputs": [
    {
     "name": "stdin",
     "output_type": "stream",
     "text": [
      "Enter first no :  4\n",
      "Enter second no :  0.0\n"
     ]
    },
    {
     "name": "stdout",
     "output_type": "stream",
     "text": [
      "Error : <class 'ValueError'>\n"
     ]
    }
   ],
   "source": [
    "# Example-1\n",
    "import sys\n",
    "# decalre & initialize\n",
    "num1=0\n",
    "num2=0\n",
    "num3=0\n",
    "try:\n",
    "    #input, process, output\n",
    "    num1 = int(input(\"Enter first no : \"))\n",
    "    num2 = int(input(\"Enter second no : \"))\n",
    "    num3 = num1 + num2\n",
    "    print(\"Result : {}\".format(num3))\n",
    "except:\n",
    "    # error message\n",
    "    print(\"Error : {}\".format(sys.exc_info()[0]))\n",
    "finally:\n",
    "    # exit message\n",
    "    del num1\n",
    "    del num2\n",
    "    del num3"
   ]
  },
  {
   "cell_type": "code",
   "execution_count": 24,
   "id": "c7bea46c-9e77-4d26-bb45-99550df82096",
   "metadata": {},
   "outputs": [],
   "source": [
    "# Example-2\n",
    "# User defined exception\n",
    "# object->BaseException->Exception\n",
    "class MyException(Exception):\n",
    "    pass\n",
    "class LowValue(MyException):\n",
    "    pass\n",
    "class HighValue(MyException):\n",
    "    pass"
   ]
  },
  {
   "cell_type": "code",
   "execution_count": 23,
   "id": "c53a99c9-0fd1-4fac-8b6d-18ff10384877",
   "metadata": {},
   "outputs": [
    {
     "name": "stdin",
     "output_type": "stream",
     "text": [
      "Enter any number (1-10) :  12\n"
     ]
    },
    {
     "name": "stdout",
     "output_type": "stream",
     "text": [
      "Error : High value entered\n"
     ]
    }
   ],
   "source": [
    "#Implementation\n",
    "import sys\n",
    "# decalre\n",
    "num1 = None\n",
    "try:\n",
    "    # input/process/output\n",
    "    num1 = int(input(\"Enter any number (1-10) : \"))\n",
    "    if num1 <=0:\n",
    "        raise LowValue\n",
    "    elif num1>10:\n",
    "        raise HighValue\n",
    "    else:\n",
    "        print(\"Your number is : \", num1)\n",
    "except LowValue:\n",
    "     print(\"Error : Low value entered\")\n",
    "except HighValue:\n",
    "     print(\"Error : High value entered\")\n",
    "except:\n",
    "    # error message\n",
    "    print(\"Error : {}\".format(sys.exc_info[0]))\n",
    "finally:\n",
    "    # end\n",
    "    del num1"
   ]
  },
  {
   "cell_type": "code",
   "execution_count": null,
   "id": "157b50e8-6e97-4bc5-9e10-71ac679d8b38",
   "metadata": {},
   "outputs": [],
   "source": []
  }
 ],
 "metadata": {
  "kernelspec": {
   "display_name": "Python 3 (ipykernel)",
   "language": "python",
   "name": "python3"
  },
  "language_info": {
   "codemirror_mode": {
    "name": "ipython",
    "version": 3
   },
   "file_extension": ".py",
   "mimetype": "text/x-python",
   "name": "python",
   "nbconvert_exporter": "python",
   "pygments_lexer": "ipython3",
   "version": "3.10.4"
  }
 },
 "nbformat": 4,
 "nbformat_minor": 5
}
