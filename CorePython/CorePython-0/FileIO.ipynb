{
 "cells": [
  {
   "cell_type": "code",
   "execution_count": 1,
   "id": "f9450e26-5fc6-4f02-a344-dfdec1859a6b",
   "metadata": {},
   "outputs": [],
   "source": [
    "# File IO"
   ]
  },
  {
   "cell_type": "code",
   "execution_count": 11,
   "id": "307d6670-17c6-4390-b3d1-253348fc13b1",
   "metadata": {},
   "outputs": [
    {
     "name": "stdout",
     "output_type": "stream",
     "text": [
      "File created\n"
     ]
    }
   ],
   "source": [
    "# Create new file-1\n",
    "import sys\n",
    "try:\n",
    "    file = open(\"data1.txt\", \"w\")\n",
    "    file.close()\n",
    "    print(\"File created\")\n",
    "except:\n",
    "    print(\"Error : \".format(sys.exc_info()[0]))\n",
    "finally:\n",
    "    del file"
   ]
  },
  {
   "cell_type": "code",
   "execution_count": 13,
   "id": "f4ce6787-bf1e-41ea-9fd8-ed76cbd3fb59",
   "metadata": {},
   "outputs": [
    {
     "name": "stdout",
     "output_type": "stream",
     "text": [
      "File created\n"
     ]
    }
   ],
   "source": [
    "# Create new file-2\n",
    "import sys\n",
    "try:\n",
    "    with open(\"data2.txt\", \"w\") as file:\n",
    "        file.close()\n",
    "        print(\"File created\")\n",
    "except:\n",
    "    print(\"Error : \".format(sys.exc_info()[0]))\n",
    "finally:\n",
    "    del file"
   ]
  },
  {
   "cell_type": "code",
   "execution_count": 4,
   "id": "eb1b69bd-1e4d-4dd0-a883-7ad98c219fb2",
   "metadata": {},
   "outputs": [
    {
     "name": "stdout",
     "output_type": "stream",
     "text": [
      "\n"
     ]
    }
   ],
   "source": [
    "# Decalre\n",
    "\"\"\"\n",
    "try:\n",
    "    # input, process, output\n",
    "    pass\n",
    "except:\n",
    "    # error message\n",
    "    pass\n",
    "finally:\n",
    "    # exit\n",
    "    pass\n",
    "\"\"\"\n",
    "print()"
   ]
  },
  {
   "cell_type": "code",
   "execution_count": 24,
   "id": "b00952d4-316e-467d-aef1-bbf9db23a0fd",
   "metadata": {},
   "outputs": [
    {
     "name": "stdout",
     "output_type": "stream",
     "text": [
      "Write contents on file successfully\n"
     ]
    }
   ],
   "source": [
    "# Write content on file (new file)\n",
    "import sys\n",
    "# decalre\n",
    "file_name = \"data1.txt\"\n",
    "str1 = \"Hello from Broadway!\"\n",
    "try:\n",
    "    # input, process, output\n",
    "    with open(file_name, \"w\") as file:\n",
    "        file.writelines(\"Hello\\n\")# \\n new line\n",
    "        file.writelines(\"Hi\\n\")\n",
    "        file.writelines(\"How are you?\\n\")\n",
    "        file.close()\n",
    "        print(\"Write contents on file successfully\")\n",
    "except:\n",
    "    # error message\n",
    "    print(\"Error {}\".format(sys.exc_info()[0]))\n",
    "finally:\n",
    "    # exit\n",
    "    del file_name\n",
    "    del str1\n",
    "    del file"
   ]
  },
  {
   "cell_type": "code",
   "execution_count": 34,
   "id": "7a1b98a0-e365-456c-9205-efe83e999d75",
   "metadata": {},
   "outputs": [
    {
     "name": "stdout",
     "output_type": "stream",
     "text": [
      "['Hello\\n', 'Hi\\n', 'How are you?\\n', 'How do you do?How do you do?How do you do?']\n"
     ]
    }
   ],
   "source": [
    "# Read content from file (old)\n",
    "import sys\n",
    "file_name =\"data1.txt\"\n",
    "try:\n",
    "    with open(file_name, \"r\",)as file:\n",
    "        # str1 = file.read(10) # number of characters\n",
    "        # str1 = file.readline()\n",
    "        str1 = file.readlines()\n",
    "        print(str1)\n",
    "except:\n",
    "    print(\"Error : {}\".format(sys.exc_info()[0]))\n",
    "finally:\n",
    "    del file_name"
   ]
  },
  {
   "cell_type": "code",
   "execution_count": 33,
   "id": "7971455a-b354-4a51-a1e8-6ae813cecdf9",
   "metadata": {},
   "outputs": [
    {
     "name": "stdout",
     "output_type": "stream",
     "text": [
      "Append contents on file successfully\n"
     ]
    }
   ],
   "source": [
    "# Append content on file (old file)\n",
    "import sys\n",
    "file_name =\"data1.txt\"\n",
    "try:\n",
    "    with open(file_name, \"a\") as file:\n",
    "        # append content of file\n",
    "        file.write(\"How do you do?\")\n",
    "        file.close()\n",
    "        print(\"Append contents on file successfully\")\n",
    "except:\n",
    "    print(\"Error {}\".format(sys.exc_info()[0]))\n",
    "finally:\n",
    "    del file_name"
   ]
  },
  {
   "cell_type": "code",
   "execution_count": 36,
   "id": "4bc52efe-198e-4fa7-9d64-07b94c1f2edc",
   "metadata": {},
   "outputs": [],
   "source": [
    "# HW\n",
    "    # list all files/folders of drive/folder\n",
    "    # rename file\n",
    "    # copy file\n",
    "    # delete file"
   ]
  },
  {
   "cell_type": "code",
   "execution_count": 38,
   "id": "e4f032ea-ea56-4fdc-b8ba-2a766636b0a4",
   "metadata": {},
   "outputs": [],
   "source": [
    "# CSV File Handle\n",
    "# comma separeted values\n",
    "    # sn,name,address\n",
    "    # 1,raj, ktm"
   ]
  },
  {
   "cell_type": "code",
   "execution_count": 46,
   "id": "58151725-5a8e-4171-b0cd-6de5764f5e2f",
   "metadata": {},
   "outputs": [
    {
     "name": "stdout",
     "output_type": "stream",
     "text": [
      "Write contents on file successfully\n"
     ]
    }
   ],
   "source": [
    "# Writing content\n",
    "import csv\n",
    "import sys\n",
    "file_name = \"data1.csv\"\n",
    "heading_row = ['sn','name','address']\n",
    "data_row = [1,'Raj','KTM']\n",
    "try:\n",
    "    with open(file_name, \"w\",)as file:\n",
    "        writer = csv.writer(file)\n",
    "        writer.writerow(heading_row)\n",
    "        writer.writerow(data_row)\n",
    "        file.close()\n",
    "        print(\"Write contents on file successfully\")\n",
    "except:\n",
    "    print(\"Error : {}\".format(sys.exc_info()[0]))\n",
    "finally:\n",
    "    del file_name\n",
    "    del heading_row\n",
    "    del data_row"
   ]
  },
  {
   "cell_type": "code",
   "execution_count": 57,
   "id": "a4f3edf9-2330-4134-9468-a180fd16f51c",
   "metadata": {},
   "outputs": [
    {
     "name": "stdout",
     "output_type": "stream",
     "text": [
      "['sn', 'name', 'address']\n",
      "[]\n",
      "['1', 'Raj', 'KTM']\n",
      "[]\n"
     ]
    }
   ],
   "source": [
    "# Reading content\n",
    "import csv\n",
    "import sys\n",
    "file_name = \"data1.csv\"\n",
    "try:\n",
    "    with open(file_name, \"r\") as file:\n",
    "        rows = csv.reader(file)\n",
    "        for row in rows:\n",
    "            print(row)\n",
    "except:\n",
    "    print(\"Error : {}\".format(sys.exc_info()[0]))\n",
    "finally:\n",
    "    del file_name"
   ]
  },
  {
   "cell_type": "code",
   "execution_count": null,
   "id": "3cfb37f3-907d-4519-a4cb-985d29c6a6f4",
   "metadata": {},
   "outputs": [],
   "source": []
  }
 ],
 "metadata": {
  "kernelspec": {
   "display_name": "Python 3 (ipykernel)",
   "language": "python",
   "name": "python3"
  },
  "language_info": {
   "codemirror_mode": {
    "name": "ipython",
    "version": 3
   },
   "file_extension": ".py",
   "mimetype": "text/x-python",
   "name": "python",
   "nbconvert_exporter": "python",
   "pygments_lexer": "ipython3",
   "version": "3.10.4"
  }
 },
 "nbformat": 4,
 "nbformat_minor": 5
}
