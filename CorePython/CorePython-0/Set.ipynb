{
 "cells": [
  {
   "cell_type": "markdown",
   "id": "3d95011e-8b2e-40d8-b3f3-0eb6e22203c1",
   "metadata": {},
   "source": [
    "## Sets"
   ]
  },
  {
   "cell_type": "code",
   "execution_count": 17,
   "id": "b59a6762-548d-480b-bd79-65b6fc976e39",
   "metadata": {},
   "outputs": [
    {
     "name": "stdout",
     "output_type": "stream",
     "text": [
      "{1, 2, 3, 4, 5, 6, 7}\n",
      "[1, 2, 3, 4, 5, 6, 7, 5, 4, 3, 2]\n"
     ]
    }
   ],
   "source": [
    "from array import array\n",
    "\n",
    "# Decalre and initalize\n",
    "set1 = set()\n",
    "set1  = {None,}\n",
    "set1 = {1,2,3,4,5,6,7,5,4,3,2}\n",
    "\n",
    "arr1 = array('i', [4,5,6,3,2,3,5])\n",
    "set1 = set(arr1) # array to set\n",
    "\n",
    "list1 = list([3,3,4,5,6,7])\n",
    "set1 = set(list1) # list to array\n",
    "\n",
    "tup1 = 3,4,5,6,7,8,9\n",
    "set1 = set(tup1)\n",
    "\n",
    "set1 = {1,2,3,4,5,6,7,5,4,3,2}\n",
    "list1 = list([1,2,3,4,5,6,7,5,4,3,2])\n",
    "print(set1)\n",
    "print(list1)"
   ]
  },
  {
   "cell_type": "code",
   "execution_count": 26,
   "id": "2a330614-fcb6-4b12-8caa-23f14fd2c540",
   "metadata": {},
   "outputs": [
    {
     "name": "stdout",
     "output_type": "stream",
     "text": [
      "{1, 2, 3, 4, 5, 6, 7}\n",
      "<class 'set'>\n",
      "1214218978016\n",
      "728\n",
      "7\n",
      "1\n",
      "7\n",
      "28\n"
     ]
    }
   ],
   "source": [
    "# Explore Set\n",
    "import sys\n",
    "list1 = list([1,2,3,4,5,6,7,5,4,3,2])\n",
    "set1 = set(list1)\n",
    "print(set1)\n",
    "print(type(set1))\n",
    "print(id(set1))\n",
    "print(sys.getsizeof(set1))\n",
    "print(len(set1))\n",
    "print(min(set1))\n",
    "print(max(set1))\n",
    "print(sum(set1))\n",
    "\n",
    "# type conversion\n",
    "# bool, int, float, complex -> set\n",
    "# array, list, tuple -> set"
   ]
  },
  {
   "cell_type": "code",
   "execution_count": 30,
   "id": "6391a546-fa42-47e9-aae3-9b512c577a3b",
   "metadata": {},
   "outputs": [
    {
     "name": "stdout",
     "output_type": "stream",
     "text": [
      "0\n",
      "{5}\n",
      "{3, 5}\n"
     ]
    }
   ],
   "source": [
    "# Methods\n",
    "# add(...)\n",
    "set1 = set()\n",
    "print(len(set1))\n",
    "set1.add(5)\n",
    "print(set1)\n",
    "set1.add(3)\n",
    "print(set1)"
   ]
  },
  {
   "cell_type": "code",
   "execution_count": 31,
   "id": "83003c5a-1159-41f5-8884-c8314885513d",
   "metadata": {},
   "outputs": [
    {
     "name": "stdout",
     "output_type": "stream",
     "text": [
      "{5, 7}\n",
      "set()\n"
     ]
    }
   ],
   "source": [
    "#  clear(...)\n",
    "set1 = set()\n",
    "set1.add(5)\n",
    "set1.add(7)\n",
    "print(set1)\n",
    "set1.clear()\n",
    "print(set1)"
   ]
  },
  {
   "cell_type": "code",
   "execution_count": 35,
   "id": "8507c428-31cb-4b83-a9db-1bc52182e450",
   "metadata": {},
   "outputs": [
    {
     "name": "stdout",
     "output_type": "stream",
     "text": [
      "{2, 3, 4, 5, 6, 7}\n",
      "{2, 3, 4, 5, 6, 7}\n",
      "1214218978912\n",
      "1214218978912\n",
      "{2, 3, 4, 5, 6, 7}\n",
      "{2, 3, 4, 5, 6, 7}\n",
      "1214218978912\n",
      "1214218978240\n"
     ]
    }
   ],
   "source": [
    "# copy(...)\n",
    "set1 = {5,6,7,4,2,3,5,3,4}\n",
    "set2 = set1 # copy by reference\n",
    "print(set1)\n",
    "print(set2)\n",
    "print(id(set1))\n",
    "print(id(set2))\n",
    "\n",
    "set3 = set2.copy() # Copy by value\n",
    "print(set2)\n",
    "print(set3)\n",
    "print(id(set2))\n",
    "print(id(set3))"
   ]
  },
  {
   "cell_type": "code",
   "execution_count": 36,
   "id": "06c1c35c-5536-44ba-8205-98a2c3fc81f6",
   "metadata": {},
   "outputs": [
    {
     "name": "stdout",
     "output_type": "stream",
     "text": [
      "{1, 2, 3, 4, 5}\n",
      "{2, 3, 4, 5}\n"
     ]
    }
   ],
   "source": [
    "# pop(...) # Remove from index -1\n",
    "set1 = {4,2,1,5,3}\n",
    "print(set1)\n",
    "set1.pop()\n",
    "print(set1)"
   ]
  },
  {
   "cell_type": "code",
   "execution_count": 39,
   "id": "c14f76c4-d2f6-4343-9abe-95d06a23d6a2",
   "metadata": {},
   "outputs": [
    {
     "name": "stdout",
     "output_type": "stream",
     "text": [
      "{1, 2, 3, 4, 5}\n",
      "{1, 2, 4, 5}\n"
     ]
    }
   ],
   "source": [
    "# remove() # Remove value\n",
    "set1 = {4,2,1,5,3}\n",
    "print(set1)\n",
    "set1.remove(3)\n",
    "print(set1)"
   ]
  },
  {
   "cell_type": "code",
   "execution_count": 43,
   "id": "b7b83f3e-b296-4d59-8613-cae29e8219a8",
   "metadata": {},
   "outputs": [
    {
     "name": "stdout",
     "output_type": "stream",
     "text": [
      "{1, 2, 3, 4}\n",
      "{4, 5, 6, 7}\n",
      "\n",
      "{1, 2, 3, 4}\n",
      "{4, 5, 6, 7}\n",
      "{1, 2, 3, 4, 5, 6, 7}\n",
      "\n",
      "{1, 2, 3, 4}\n",
      "{4, 5, 6, 7}\n",
      "{1, 2, 3, 4, 5, 6, 7}\n"
     ]
    }
   ],
   "source": [
    "# union(...) -> set\n",
    "set1 = {1,2,3,4}\n",
    "set2 = {4,5,6,7}\n",
    "print(set1)\n",
    "print(set2)\n",
    "print()\n",
    "set3 = set1.union(set2)\n",
    "print(set1)\n",
    "print(set2)\n",
    "print(set3)\n",
    "print()\n",
    "set3 = set2.union(set1)\n",
    "print(set1)\n",
    "print(set2)\n",
    "print(set3)"
   ]
  },
  {
   "cell_type": "code",
   "execution_count": 45,
   "id": "9f293abe-6fca-4869-8875-10574fda1c5f",
   "metadata": {},
   "outputs": [
    {
     "name": "stdout",
     "output_type": "stream",
     "text": [
      "{1, 2, 3}\n",
      "{5, 6, 7}\n"
     ]
    }
   ],
   "source": [
    "# difference(...)->set\n",
    "set1 = {1,2,3,4}\n",
    "set2 = {4,5,6,7}\n",
    "set3 = set1.difference(set2)\n",
    "print(set3)\n",
    "set3 = set2.difference(set1)\n",
    "print(set3)"
   ]
  },
  {
   "cell_type": "code",
   "execution_count": null,
   "id": "c64eb2f9-0aaa-4943-9f79-1c8c7c83793a",
   "metadata": {},
   "outputs": [],
   "source": []
  },
  {
   "cell_type": "code",
   "execution_count": null,
   "id": "3d78ecc9-51c4-4f74-a391-7e9db4db9b23",
   "metadata": {},
   "outputs": [],
   "source": []
  },
  {
   "cell_type": "code",
   "execution_count": null,
   "id": "0736d433-d4f0-4c4a-b742-f95bfe6e0775",
   "metadata": {},
   "outputs": [],
   "source": []
  }
 ],
 "metadata": {
  "kernelspec": {
   "display_name": "Python 3 (ipykernel)",
   "language": "python",
   "name": "python3"
  },
  "language_info": {
   "codemirror_mode": {
    "name": "ipython",
    "version": 3
   },
   "file_extension": ".py",
   "mimetype": "text/x-python",
   "name": "python",
   "nbconvert_exporter": "python",
   "pygments_lexer": "ipython3",
   "version": "3.10.4"
  }
 },
 "nbformat": 4,
 "nbformat_minor": 5
}
