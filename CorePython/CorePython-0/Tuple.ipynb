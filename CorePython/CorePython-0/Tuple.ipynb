{
 "cells": [
  {
   "cell_type": "markdown",
   "id": "8d8db966-cae2-4186-bdf9-5a60bffbf7ad",
   "metadata": {},
   "source": [
    "## Tuple"
   ]
  },
  {
   "cell_type": "code",
   "execution_count": 9,
   "id": "755fa049-fdf8-468a-92d3-bfc80ef60dbf",
   "metadata": {},
   "outputs": [
    {
     "name": "stdout",
     "output_type": "stream",
     "text": [
      "<class 'tuple'>\n"
     ]
    }
   ],
   "source": [
    "from array import array\n",
    "\n",
    "# Declare and initialize\n",
    "tup1 =()\n",
    "tup1 =(3,4,5,6,2,1)\n",
    "tup1 = 5,6,2,1,6\n",
    "\n",
    "list1 = [5,6,7,3,2]\n",
    "tup1 = tuple(list1) # list to tuple\n",
    "\n",
    "array1 = array('i', [5,5,3,2,1])\n",
    "tup1 = tuple(array1) # array to tuple\n",
    "\n",
    "set1 = {5,6,6,7,7,8,2}\n",
    "tup1 = tuple(set1) # set to tuple\n",
    "\n",
    "print(type(tup1))\n"
   ]
  },
  {
   "cell_type": "code",
   "execution_count": 22,
   "id": "71b2ae77-9a0f-4f45-9b8f-7e84b7c1ec2e",
   "metadata": {},
   "outputs": [
    {
     "name": "stdout",
     "output_type": "stream",
     "text": [
      "(3, 4, 5, 6, 2, 1)\n",
      "6\n",
      "6\n",
      "1\n",
      "21\n",
      "1495181261216\n",
      "88\n",
      "5\n",
      "2\n",
      "(3, 4, 5, 6, 2, 1)\n",
      "(1, 2, 6, 5, 4, 3)\n"
     ]
    }
   ],
   "source": [
    "# indexing and slicing\n",
    "import sys\n",
    "tup1 =(3,4,5,6,2,1)\n",
    "print(tup1)\n",
    "print(len(tup1))\n",
    "print(max(tup1))\n",
    "print(min(tup1))\n",
    "print(sum(tup1))\n",
    "print(id(tup1))\n",
    "print(sys.getsizeof(tup1))\n",
    "\n",
    "# indexing -> value\n",
    "print(tup1[2])\n",
    "print(tup1[-2])\n",
    "\n",
    "# slicing -> tuple\n",
    "print(tup1[::])\n",
    "print(tup1[::-1])"
   ]
  },
  {
   "cell_type": "code",
   "execution_count": 25,
   "id": "5b2ace64-ee5b-400e-85b2-2d4208dbc932",
   "metadata": {},
   "outputs": [
    {
     "name": "stdout",
     "output_type": "stream",
     "text": [
      "1\n"
     ]
    }
   ],
   "source": [
    "# methods\n",
    "# count(self, value, /)\n",
    "tup1 = (3, 4, 5, 6, 2, 1)\n",
    "print(tup1.count(2))"
   ]
  },
  {
   "cell_type": "code",
   "execution_count": 27,
   "id": "ad20e8e0-bb42-4506-9f25-389e2721c476",
   "metadata": {},
   "outputs": [
    {
     "name": "stdout",
     "output_type": "stream",
     "text": [
      "1\n",
      "4\n"
     ]
    }
   ],
   "source": [
    "# index(self, value, start=0, stop=9223372036854775807, /)\n",
    "tup1 = (3, 4, 5, 6, 2, 1)\n",
    "print(tup1.count(2))\n",
    "index = tup1.index(2,0, len(tup1))\n",
    "print(index)"
   ]
  },
  {
   "cell_type": "code",
   "execution_count": null,
   "id": "706b93b7-3243-496a-8b5f-71b5d9f6b273",
   "metadata": {},
   "outputs": [],
   "source": [
    "# tuple to list\n",
    "# list to tuple"
   ]
  }
 ],
 "metadata": {
  "kernelspec": {
   "display_name": "Python 3 (ipykernel)",
   "language": "python",
   "name": "python3"
  },
  "language_info": {
   "codemirror_mode": {
    "name": "ipython",
    "version": 3
   },
   "file_extension": ".py",
   "mimetype": "text/x-python",
   "name": "python",
   "nbconvert_exporter": "python",
   "pygments_lexer": "ipython3",
   "version": "3.10.4"
  }
 },
 "nbformat": 4,
 "nbformat_minor": 5
}
