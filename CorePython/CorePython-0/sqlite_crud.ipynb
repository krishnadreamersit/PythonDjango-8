{
 "cells": [
  {
   "cell_type": "markdown",
   "id": "b2215ae4-1ace-4917-b2c8-5c29ba964e63",
   "metadata": {},
   "source": [
    "## SQLITE CRUD"
   ]
  },
  {
   "cell_type": "code",
   "execution_count": 1,
   "id": "68c075ca-8e48-4552-8611-047a0744c666",
   "metadata": {},
   "outputs": [],
   "source": [
    "# Create databaase file (mydb.sqlite3)\n",
    "# Connect with database file\n",
    "# Create table on database file\n",
    "# Insert record on table\n",
    "# Select record from table\n",
    "# Update record on table\n",
    "# Delete record on table"
   ]
  },
  {
   "cell_type": "code",
   "execution_count": 4,
   "id": "723d84ec-286e-41da-ab79-c129aba081b2",
   "metadata": {},
   "outputs": [
    {
     "name": "stdout",
     "output_type": "stream",
     "text": [
      "Connect with database successfully\n"
     ]
    }
   ],
   "source": [
    "# Create databaase file (mydb.sqlite3)\n",
    "    # Manually create a file with name mydb.sqlite3\n",
    "    \n",
    "# Connect with database file\n",
    "import sys\n",
    "import sqlite3\n",
    "\n",
    "DB_FILE  = \"mydb.sqlite3\"\n",
    "conn = None\n",
    "try:\n",
    "    conn = sqlite3.connect(DB_FILE)\n",
    "    conn.close()\n",
    "    print(\"Connect with database successfully\")\n",
    "except:\n",
    "    print(\"Error : {}\".format(sys.exc_info()[0]))\n",
    "finally:\n",
    "    del conn\n",
    "    del DB_FILE\n"
   ]
  },
  {
   "cell_type": "code",
   "execution_count": 1,
   "id": "47d401a6-a4a8-4675-864f-cd9129370734",
   "metadata": {},
   "outputs": [
    {
     "name": "stdout",
     "output_type": "stream",
     "text": [
      "Create table successfully\n"
     ]
    }
   ],
   "source": [
    "# Create table on database file\n",
    "import sys\n",
    "import sqlite3\n",
    "DB_FILE  = \"mydb.sqlite3\"\n",
    "conn = None\n",
    "cursor = None\n",
    "sql = \"\"\"\n",
    "CREATE TABLE IF NOT EXISTS persons(\n",
    "    pid INTEGER PRIMARY KEY,\n",
    "    fullname TEXT(50),\n",
    "    address TEXT(50)\n",
    ");\n",
    "\"\"\"\n",
    "try:\n",
    "    conn = sqlite3.connect(DB_FILE) # Connect with database file\n",
    "    cursor = conn.cursor() # Initialize cursor object which is used to execute sql statement\n",
    "    cursor.execute(sql) # run sql statement on db\n",
    "    conn.commit() # save change on database\n",
    "    cursor.close()\n",
    "    conn.close()\n",
    "    print(\"Create table successfully\")\n",
    "except:\n",
    "    print(\"Error : {}\".format(sys.exc_info()[0]))\n",
    "finally:\n",
    "    del sql\n",
    "    del cursor\n",
    "    del conn\n",
    "    del DB_FILE"
   ]
  },
  {
   "cell_type": "code",
   "execution_count": null,
   "id": "6f4fd4a2-9d35-40a8-8934-11dad49a1796",
   "metadata": {},
   "outputs": [],
   "source": [
    "# database file -> mydb.sqlite3\n",
    "# persons\n",
    "    # pid INTEGER PRIMARY KEY\n",
    "    # fullname TEXT(50)\n",
    "    # address TEXT(50)\n",
    "# Insert record\n",
    "# database file -> table -> fields\n",
    "# Steps\n",
    "    # prepare sql statement\n",
    "    # connect with database\n",
    "    # execute sql statement\n",
    "    # close connection"
   ]
  },
  {
   "cell_type": "code",
   "execution_count": 5,
   "id": "9d542eeb-11fb-4242-8db3-7ce22c149a5d",
   "metadata": {},
   "outputs": [
    {
     "name": "stdout",
     "output_type": "stream",
     "text": [
      "Insert record successfully\n"
     ]
    }
   ],
   "source": [
    "# Example-1\n",
    "import sys\n",
    "import sqlite3\n",
    "# insert, update, delete -> table -> change -> commit (connection)\n",
    "sql = \"\"\"INSERT INTO persons(pid, fullname, address) VALUES(?, ?, ?)\"\"\"\n",
    "values = (5, \"Nepal\", \"KTM\")\n",
    "DB_FILE  = \"mydb.sqlite3\"\n",
    "conn = None\n",
    "cursor = None\n",
    "try:\n",
    "    conn = sqlite3.connect(DB_FILE)\n",
    "    cursor = conn.cursor()\n",
    "    cursor.execute(sql, values)\n",
    "    conn.commit() # Save change on database file\n",
    "    cursor.close()\n",
    "    conn.close()\n",
    "    print(\"Insert record successfully\")\n",
    "except:\n",
    "    print(\"Error : {}\".format(sys.exc_info()[0]))\n",
    "finally:\n",
    "    del cursor\n",
    "    del conn\n",
    "    del DB_FILE\n",
    "    del values\n",
    "    del sql"
   ]
  },
  {
   "cell_type": "code",
   "execution_count": 41,
   "id": "b0692fc4-b03b-4812-afe0-9211a9805a72",
   "metadata": {},
   "outputs": [
    {
     "name": "stdin",
     "output_type": "stream",
     "text": [
      "Enter id :  4\n",
      "Enter name :  Krishna\n",
      "Enter address :  KTM\n"
     ]
    },
    {
     "name": "stdout",
     "output_type": "stream",
     "text": [
      "Insert record successfully\n"
     ]
    }
   ],
   "source": [
    "# Example-2\n",
    "import sys\n",
    "import sqlite3\n",
    "# insert, update, delete -> table -> change -> commit (connection)\n",
    "sql = \"\"\"INSERT INTO persons(pid, fullname, address) VALUES(?, ?, ?)\"\"\"\n",
    "pid = int(input(\"Enter id : \"))\n",
    "name = input(\"Enter name : \")\n",
    "address = input(\"Enter address : \")\n",
    "values = (pid, name, address)\n",
    "DB_FILE  = \"mydb.sqlite3\"\n",
    "conn = None\n",
    "cursor = None\n",
    "try:\n",
    "    conn = sqlite3.connect(DB_FILE)\n",
    "    cursor = conn.cursor()\n",
    "    cursor.execute(sql, values)\n",
    "    conn.commit() # Save change on database file\n",
    "    cursor.close()\n",
    "    conn.close()\n",
    "    print(\"Insert record successfully\")\n",
    "except:\n",
    "    print(\"Error : {}\".format(sys.exc_info()[0]))\n",
    "finally:\n",
    "    del cursor\n",
    "    del conn\n",
    "    del DB_FILE\n",
    "    del values\n",
    "    del sql"
   ]
  },
  {
   "cell_type": "code",
   "execution_count": 15,
   "id": "eb4efd18-e641-4390-bb2a-9db2531391df",
   "metadata": {},
   "outputs": [
    {
     "name": "stdout",
     "output_type": "stream",
     "text": [
      "(2, 'Infosys', 'KTM')\n",
      "(3, 'Nepal', 'KTM')\n",
      "(4, 'Krishna', 'KTM')\n",
      "(5, 'Nepal', 'KTM')\n",
      "Display records from table successfully\n"
     ]
    }
   ],
   "source": [
    "# Select record from table (select all, search)\n",
    "import sys\n",
    "import sqlite3\n",
    "\n",
    "DB_FILE  = \"mydb.sqlite3\"\n",
    "conn = None\n",
    "cursor = None\n",
    "sql =\"SELECT * FROM persons\" # Select all records from table\n",
    "rows = None\n",
    "try:\n",
    "    conn = sqlite3.connect(DB_FILE)\n",
    "    cursor = conn.cursor()\n",
    "    rows = cursor.execute(sql)\n",
    "    for row in rows:\n",
    "        print(row)\n",
    "    cursor.close()\n",
    "    conn.close()\n",
    "    print(\"Display records from table successfully\")\n",
    "except:\n",
    "    print(\"Error : {}\".format(sys.exc_info()[0]))\n",
    "finally:\n",
    "    del rows\n",
    "    del sql\n",
    "    del cursor\n",
    "    del conn\n",
    "    del DB_FILE"
   ]
  },
  {
   "cell_type": "code",
   "execution_count": 29,
   "id": "f0040410-cd30-4d1d-8163-95ceefb5f207",
   "metadata": {},
   "outputs": [
    {
     "name": "stdin",
     "output_type": "stream",
     "text": [
      "Enter id :  2\n"
     ]
    },
    {
     "name": "stdout",
     "output_type": "stream",
     "text": [
      "Display records from table successfully\n"
     ]
    }
   ],
   "source": [
    "# Search Record based on id\n",
    "# Select record from table (select all, search)\n",
    "import sys\n",
    "import sqlite3\n",
    "\n",
    "DB_FILE  = \"mydb.sqlite3\"\n",
    "conn = None\n",
    "cursor = None\n",
    "sql =\"SELECT * FROM persons WHERE pid=?\" # based on pid\n",
    "pid = int(input(\"Enter id : \"))\n",
    "values = (pid, )\n",
    "rows = None\n",
    "try:\n",
    "    conn = sqlite3.connect(DB_FILE)\n",
    "    cursor = conn.cursor()\n",
    "    rows = cursor.execute(sql, values)\n",
    "    for row in rows:\n",
    "        print(row)\n",
    "    cursor.close()\n",
    "    conn.close()\n",
    "    print(\"Display records from table successfully\")\n",
    "except:\n",
    "    print(\"Error : {}\".format(sys.exc_info()[0]))\n",
    "finally:\n",
    "    del rows\n",
    "    del sql\n",
    "    del cursor\n",
    "    del conn\n",
    "    del DB_FILE"
   ]
  },
  {
   "cell_type": "code",
   "execution_count": 26,
   "id": "18f87313-fdea-4cc5-9d65-cf70ed219b4a",
   "metadata": {},
   "outputs": [
    {
     "name": "stdout",
     "output_type": "stream",
     "text": [
      "Update record successfully\n"
     ]
    }
   ],
   "source": [
    "# Update record on table (edit record)\n",
    "import sys\n",
    "import sqlite3\n",
    "\n",
    "# insert, update, delete -> table -> change -> commit (connection)\n",
    "# sql = \"\"\"UPDATE persons SET fullname=? WHERE pid =?\"\"\" # partial record update\n",
    "# sql = \"\"\"UPDATE persons SET address=? WHERE pid =?\"\"\" # partial record update\n",
    "sql = \"\"\"UPDATE persons SET fullname=?, address=? WHERE pid =?\"\"\" # full record update\n",
    "values = (\"Arjun Bhandari\", \"Lalitpur\", 2)\n",
    "DB_FILE  = \"mydb.sqlite3\"\n",
    "conn = None\n",
    "cursor = None\n",
    "try:\n",
    "    conn = sqlite3.connect(DB_FILE)\n",
    "    cursor = conn.cursor()\n",
    "    cursor.execute(sql, values)\n",
    "    conn.commit() # Save change on database file\n",
    "    cursor.close()\n",
    "    conn.close()\n",
    "    print(\"Update record successfully\")\n",
    "except:\n",
    "    print(\"Error : {}\".format(sys.exc_info()[0]))\n",
    "finally:\n",
    "    del cursor\n",
    "    del conn\n",
    "    del DB_FILE\n",
    "    del values\n",
    "    del sql"
   ]
  },
  {
   "cell_type": "code",
   "execution_count": 30,
   "id": "93c073b1-2b19-4a08-9fe9-2883d2fa0b2c",
   "metadata": {},
   "outputs": [
    {
     "name": "stdin",
     "output_type": "stream",
     "text": [
      "Enter id :  3\n"
     ]
    },
    {
     "name": "stdout",
     "output_type": "stream",
     "text": [
      "Record delete successfully\n"
     ]
    }
   ],
   "source": [
    "# Update record on table (edit record)\n",
    "import sys\n",
    "import sqlite3\n",
    "# insert, update, delete -> table -> change -> commit (connection)\n",
    "sql = \"\"\"DELETE FROM persons WHERE pid =?\"\"\"\n",
    "pid = int(input(\"Enter id : \"))\n",
    "values = (pid, )\n",
    "DB_FILE  = \"mydb.sqlite3\"\n",
    "conn = None\n",
    "cursor = None\n",
    "try:\n",
    "    conn = sqlite3.connect(DB_FILE)\n",
    "    cursor = conn.cursor()\n",
    "    cursor.execute(sql, values)\n",
    "    conn.commit() # Save change on database file\n",
    "    cursor.close()\n",
    "    conn.close()\n",
    "    print(\"Record delete successfully\")\n",
    "except:\n",
    "    print(\"Error : {}\".format(sys.exc_info()[0]))\n",
    "finally:\n",
    "    del cursor\n",
    "    del conn\n",
    "    del DB_FILE\n",
    "    del values\n",
    "    del sql"
   ]
  },
  {
   "cell_type": "code",
   "execution_count": null,
   "id": "5327c37d-58cc-415b-9273-11bd56b5fae5",
   "metadata": {},
   "outputs": [],
   "source": [
    "# Task-1\n",
    "------------------------------------------------------------\n",
    "Main Menu\n",
    "------------------------------------------------------------\n",
    "1. Add Record\n",
    "2. Display Records\n",
    "3. Search Record (id)\n",
    "4. Search and Edit Record (id)\n",
    "5. Search and Delete Record (id)\n",
    "6. Export Records -> CSV\n",
    "7. Import Records <- CSV\n",
    "0. Exit\n",
    "------------------------------------------------------------\n",
    "Enter your choice : 1\n",
    "------------------------------------------------------------\n",
    "Enter id : 1\n",
    "Enter name : Raj\n",
    "Enter address : KTM\n",
    "Enter phone : 98444333\n",
    "Enter email : raj@gmail.com\n",
    "------------------------------------------------------------\n",
    "Do you want to save record (Y|y -> YES or N|n -> No) : y\n",
    "Record save successfully\n",
    "------------------------------------------------------------\n"
   ]
  }
 ],
 "metadata": {
  "kernelspec": {
   "display_name": "Python 3 (ipykernel)",
   "language": "python",
   "name": "python3"
  },
  "language_info": {
   "codemirror_mode": {
    "name": "ipython",
    "version": 3
   },
   "file_extension": ".py",
   "mimetype": "text/x-python",
   "name": "python",
   "nbconvert_exporter": "python",
   "pygments_lexer": "ipython3",
   "version": "3.10.4"
  }
 },
 "nbformat": 4,
 "nbformat_minor": 5
}
