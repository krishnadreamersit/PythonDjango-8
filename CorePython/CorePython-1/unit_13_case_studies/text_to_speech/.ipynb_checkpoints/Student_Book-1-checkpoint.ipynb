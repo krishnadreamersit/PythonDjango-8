{
 "cells": [
  {
   "cell_type": "code",
   "execution_count": 6,
   "metadata": {},
   "outputs": [
    {
     "data": {
      "text/plain": [
       "1"
      ]
     },
     "execution_count": 6,
     "metadata": {},
     "output_type": "execute_result"
    }
   ],
   "source": [
    "from gtts import gTTS\n",
    "import os\n",
    "tts = gTTS(text=\n",
    "\"\"\"\n",
    "A lovely birthday present.\n",
    "\n",
    "Once upon a time, there lived a young girl whith her family and mother. Her name was Meena. They lived in a small room in Bhaktapur. Her father and mother went out to work every day. Meena was very very poor. But she was a sweet girl. She loved her father and mother very much. She also loved to dance. It made her happy.\n",
    "\n",
    "Her father's birthday was on july 24th. Meena gifted a red box to her father. Her father opened the box. It was empty.\n",
    "\n",
    "Her father was surprised. He asked her why the box as empty.\n",
    "\n",
    "Meena replied, \"Daddy, we are poor but I love you very much. I have put all my love in this box. My love is my gift for you\"\n",
    "\n",
    "Meena's father was very touched. He hugged her tightly.\n",
    "\n",
    "Meena give love to her father. It made her father happy. It made her happy too.\n",
    "\n",
    "Didi Meena buy a gift that cost a lot of money? No!\n",
    "\n",
    "You don't need money to show your love.\n",
    "\n",
    "So how can you show love?\n",
    "\n",
    "You can show love to your mother by giving her a kiss.\n",
    "\n",
    "You can show your love to your father by hugging him.\n",
    "\n",
    "You can show your love to your little brother by saying \"I love you\".\n",
    "\n",
    "You can show your love to your friend by sharing things and playing together.\n",
    "\n",
    "You can show your love to your teacher by gibing her a flower.\n",
    "\n",
    "Hi Rhydam you made me so angry, by not reading books and listening me.\n",
    "\n",
    "Thank you!\n",
    "\n",
    "\"\"\", lang='en')\n",
    "tts.save(\"good.mp3\")\n",
    "os.system(\"mpg321 good.mp3\")"
   ]
  },
  {
   "cell_type": "code",
   "execution_count": null,
   "metadata": {},
   "outputs": [],
   "source": []
  },
  {
   "cell_type": "code",
   "execution_count": null,
   "metadata": {},
   "outputs": [],
   "source": []
  }
 ],
 "metadata": {
  "kernelspec": {
   "display_name": "Python 3",
   "language": "python",
   "name": "python3"
  },
  "language_info": {
   "codemirror_mode": {
    "name": "ipython",
    "version": 3
   },
   "file_extension": ".py",
   "mimetype": "text/x-python",
   "name": "python",
   "nbconvert_exporter": "python",
   "pygments_lexer": "ipython3",
   "version": "3.7.4"
  }
 },
 "nbformat": 4,
 "nbformat_minor": 4
}
