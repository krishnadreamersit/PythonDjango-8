{
 "cells": [
  {
   "cell_type": "markdown",
   "id": "18cb5469-7c97-4f97-8243-49cd1b981e54",
   "metadata": {},
   "source": [
    "## Dictionary"
   ]
  },
  {
   "cell_type": "code",
   "execution_count": 16,
   "id": "4d3af66c-019f-4438-adfe-f869a906e4f2",
   "metadata": {},
   "outputs": [
    {
     "name": "stdout",
     "output_type": "stream",
     "text": [
      "<class 'dict'>\n",
      "{'sid': 1, 'name': 'Your name', 'address': 'Your address'}\n",
      "3\n",
      "address\n",
      "sid\n",
      "232\n",
      "1916195812864\n",
      "1\n",
      "Your name\n",
      "Your address\n",
      "{'sid': 2, 'name': 'Your name', 'address': 'Your address'}\n",
      "{'sid': 2, 'name': 'Your name'}\n",
      "{'sid': 2, 'name': 'Your name', 'email': 'email@address.com'}\n"
     ]
    }
   ],
   "source": [
    "import sys\n",
    "# Decalre and initialize\n",
    "dict1 = {}\n",
    "dict1 = {'sid':1, 'name':'Your name', 'address':'Your address'}\n",
    "print(type(dict1))\n",
    "print(dict1)\n",
    "print(len(dict1))\n",
    "print(min(dict1))\n",
    "print(max(dict1))\n",
    "print(sys.getsizeof(dict1))\n",
    "print(id(dict1))\n",
    "\n",
    "# Accessing value\n",
    "print(dict1['sid'])\n",
    "print(dict1['name'])\n",
    "print(dict1['address'])\n",
    "\n",
    "# Update value\n",
    "dict1['sid'] = 2\n",
    "print(dict1)\n",
    "\n",
    "# Delete key\n",
    "del dict1['address']\n",
    "print(dict1)\n",
    "\n",
    "# Adding Key\n",
    "dict1['email']=\"email@address.com\"\n",
    "print(dict1)"
   ]
  },
  {
   "cell_type": "code",
   "execution_count": 17,
   "id": "eb2942f6-184f-4c45-b700-bc38890ee8e8",
   "metadata": {},
   "outputs": [],
   "source": [
    "# Methods\n",
    "    # clear(...)\n",
    "    # copy(...) # Copy by value and Copy by reference"
   ]
  },
  {
   "cell_type": "code",
   "execution_count": 19,
   "id": "7420c542-919b-4195-9c5e-44534ac3492f",
   "metadata": {},
   "outputs": [
    {
     "name": "stdout",
     "output_type": "stream",
     "text": [
      "2\n",
      "2\n"
     ]
    }
   ],
   "source": [
    "# get(self, key, default=None, /)\n",
    "dict1 = {'sid': 2, 'name': 'Your name', 'address': 'Your address'}\n",
    "print(dict1.get('sid'))\n",
    "print(dict1['sid'])"
   ]
  },
  {
   "cell_type": "code",
   "execution_count": 40,
   "id": "d2a65d85-b891-4f3e-a412-5d6a2ed0f373",
   "metadata": {},
   "outputs": [
    {
     "name": "stdout",
     "output_type": "stream",
     "text": [
      "dict_items([('sid', 2), ('name', 'Your name'), ('address', 'Your address')])\n",
      "\n",
      "('sid', 2)\n",
      "('name', 'Your name')\n",
      "('address', 'Your address')\n",
      "\n",
      "sid 2\n",
      "name Your name\n",
      "address Your address\n"
     ]
    }
   ],
   "source": [
    "# items(...)\n",
    "dict1 = {'sid': 2, 'name': 'Your name', 'address': 'Your address'}\n",
    "items = dict1.items()\n",
    "# print(type(items))\n",
    "print(items)\n",
    "print()\n",
    "for item in items:\n",
    "    print(item)\n",
    "print()\n",
    "for key, value in items:\n",
    "    print(key, value)"
   ]
  },
  {
   "cell_type": "code",
   "execution_count": 45,
   "id": "8ade3cd1-e4da-4411-9eb8-0ee1ede02cc4",
   "metadata": {},
   "outputs": [
    {
     "name": "stdout",
     "output_type": "stream",
     "text": [
      "dict_keys(['sid', 'name', 'address'])\n",
      "\n",
      "sid\n",
      "name\n",
      "address\n",
      "\n",
      "2\n",
      "Your name\n",
      "Your address\n",
      "\n",
      "2\n",
      "Your name\n",
      "Your address\n"
     ]
    }
   ],
   "source": [
    "# keys(...)\n",
    "dict1 = {'sid': 2, 'name': 'Your name', 'address': 'Your address'}\n",
    "keys = dict1.keys()\n",
    "print(keys)\n",
    "print()\n",
    "for key in keys:\n",
    "    print(key)\n",
    "print()\n",
    "for key in keys:\n",
    "    print(dict1[key])\n",
    "print()\n",
    "for key in keys:\n",
    "    print(dict1.get(key))"
   ]
  },
  {
   "cell_type": "code",
   "execution_count": 47,
   "id": "921bcf9f-e2f4-4e30-a1a5-c836399b0d4c",
   "metadata": {},
   "outputs": [
    {
     "name": "stdout",
     "output_type": "stream",
     "text": [
      "{'sid': 2, 'name': 'Your name', 'address': 'Your address'}\n",
      "{'name': 'Your name', 'address': 'Your address'}\n"
     ]
    }
   ],
   "source": [
    "# pop(key)\n",
    "dict1 = {'sid': 2, 'name': 'Your name', 'address': 'Your address'}\n",
    "print(dict1)\n",
    "dict1.pop('sid')\n",
    "print(dict1)"
   ]
  },
  {
   "cell_type": "code",
   "execution_count": 49,
   "id": "467bb71a-bc48-4de6-8684-cd3e356ee15a",
   "metadata": {},
   "outputs": [
    {
     "name": "stdout",
     "output_type": "stream",
     "text": [
      "{'sid': 2, 'name': 'Your name', 'address': 'Your address'}\n",
      "{'sid': 2, 'name': 'Your name'}\n"
     ]
    }
   ],
   "source": [
    "# popitem(self, /)\n",
    "dict1 = {'sid': 2, 'name': 'Your name', 'address': 'Your address'}\n",
    "print(dict1)\n",
    "dict1.popitem()\n",
    "print(dict1)"
   ]
  },
  {
   "cell_type": "code",
   "execution_count": 54,
   "id": "b813fe29-a1f1-4944-9413-be23d9743919",
   "metadata": {},
   "outputs": [
    {
     "name": "stdout",
     "output_type": "stream",
     "text": [
      "{'sid': 2, 'name': 'Your name', 'address': 'Your address'}\n",
      "dict_items([('sid', 2), ('name', 'Your name'), ('address', 'Your address')])\n",
      "dict_keys(['sid', 'name', 'address'])\n",
      "dict_values([2, 'Your name', 'Your address'])\n"
     ]
    }
   ],
   "source": [
    "# values(...)\n",
    "dict1 = {'sid': 2, 'name': 'Your name', 'address': 'Your address'}\n",
    "print(dict1)\n",
    "items = dict1.items()\n",
    "keys = dict1.keys()\n",
    "values = dict1.values()\n",
    "print(items)\n",
    "print(keys)\n",
    "print(values)"
   ]
  },
  {
   "cell_type": "code",
   "execution_count": null,
   "id": "94a59c4c-2f0a-455b-a27b-d28db9d170f5",
   "metadata": {},
   "outputs": [],
   "source": []
  }
 ],
 "metadata": {
  "kernelspec": {
   "display_name": "Python 3 (ipykernel)",
   "language": "python",
   "name": "python3"
  },
  "language_info": {
   "codemirror_mode": {
    "name": "ipython",
    "version": 3
   },
   "file_extension": ".py",
   "mimetype": "text/x-python",
   "name": "python",
   "nbconvert_exporter": "python",
   "pygments_lexer": "ipython3",
   "version": "3.10.4"
  }
 },
 "nbformat": 4,
 "nbformat_minor": 5
}
