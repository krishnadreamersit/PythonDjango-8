{
 "cells": [
  {
   "cell_type": "code",
   "execution_count": 2,
   "id": "a6b0df99-2eec-4bf7-b761-c4c7ec5025d9",
   "metadata": {},
   "outputs": [],
   "source": [
    "# Error/Exception Handling\n",
    "    # Syntax Error\n",
    "    # Runtime Error\n",
    "    # Logical Error"
   ]
  },
  {
   "cell_type": "code",
   "execution_count": 10,
   "id": "551a7c2d-e0eb-4615-a37b-e98baac7ade7",
   "metadata": {},
   "outputs": [
    {
     "name": "stdout",
     "output_type": "stream",
     "text": [
      "1245\n",
      "1245\n",
      "57\n",
      "57\n"
     ]
    }
   ],
   "source": [
    "# Syntax Error\n",
    "# print(Hello) #NameError: name 'Hello' is not defined\n",
    "# print(\"Hello\")\n",
    "\n",
    "# print(\"Hello) # SyntaxError: unterminated string literal (detected at line 5)\n",
    "# print(\"Hello\")\n",
    "\n",
    "# print(\"12\"+45) # TypeError: can only concatenate str (not \"int\") to str\n",
    "print(\"12\"+\"45\")\n",
    "print(\"12\"+str(45))\n",
    "print(int(\"12\")+45)\n",
    "print(12+45)"
   ]
  },
  {
   "cell_type": "code",
   "execution_count": null,
   "id": "4e3355b9-af9a-4390-aa1f-f80a17318ae2",
   "metadata": {},
   "outputs": [],
   "source": [
    "# Runtime Error\n",
    "    # Power Off\n",
    "    # Harddisk Error/Full\n",
    "    # Network Error\n",
    "\n",
    "# User Level/Program Level\n",
    "try:\n",
    "    pass\n",
    "except:\n",
    "    pass\n",
    "finally:\n",
    "    pass\n",
    "\n",
    "#Example\n",
    "# decalre variables\n",
    "try:\n",
    "    # entry gateway of program\n",
    "    # input, process, output\n",
    "    pass\n",
    "except:\n",
    "    # print error message\n",
    "    pass\n",
    "finally:\n",
    "    # exit gateway of program\n",
    "    # delete variable, close file, network etc\n",
    "    pass\n",
    "\n",
    "\n"
   ]
  }
 ],
 "metadata": {
  "kernelspec": {
   "display_name": "Python 3 (ipykernel)",
   "language": "python",
   "name": "python3"
  },
  "language_info": {
   "codemirror_mode": {
    "name": "ipython",
    "version": 3
   },
   "file_extension": ".py",
   "mimetype": "text/x-python",
   "name": "python",
   "nbconvert_exporter": "python",
   "pygments_lexer": "ipython3",
   "version": "3.10.4"
  }
 },
 "nbformat": 4,
 "nbformat_minor": 5
}
