{
 "cells": [
  {
   "cell_type": "code",
   "execution_count": 1,
   "id": "2f0a9dd7-05b5-429e-8f36-a0486f5d3e78",
   "metadata": {},
   "outputs": [],
   "source": [
    "# OOP"
   ]
  },
  {
   "cell_type": "code",
   "execution_count": 10,
   "id": "0a2ed41d-a711-4c60-8e15-71510da7380a",
   "metadata": {},
   "outputs": [
    {
     "name": "stdout",
     "output_type": "stream",
     "text": [
      "['False', 'None', 'True', 'and', 'as', 'assert', 'async', 'await', 'break', 'class', 'continue', 'def', 'del', 'elif', 'else', 'except', 'finally', 'for', 'from', 'global', 'if', 'import', 'in', 'is', 'lambda', 'nonlocal', 'not', 'or', 'pass', 'raise', 'return', 'try', 'while', 'with', 'yield']\n"
     ]
    }
   ],
   "source": [
    "import keyword\n",
    "print(keyword.kwlist)\n",
    "# variable, class, fuunction, object - name cannt be same with keyword"
   ]
  },
  {
   "cell_type": "code",
   "execution_count": 4,
   "id": "0617ca4d-21a7-42b2-b575-5b9e414feb92",
   "metadata": {},
   "outputs": [
    {
     "name": "stdout",
     "output_type": "stream",
     "text": [
      "6\n",
      "6\n",
      "6\n",
      "6\n",
      "BROADWAY\n"
     ]
    }
   ],
   "source": [
    "# Structured programming\n",
    "def f0():\n",
    "    var1 = 2\n",
    "    var2 = 4\n",
    "    var3 = var1 + var2\n",
    "    print(var3)\n",
    "\n",
    "f0() # function call\n",
    "f0()\n",
    "# --------------------------------------\n",
    "# Object oriented programming\n",
    "class C1:\n",
    "    def f1(self):\n",
    "        var1 = 2\n",
    "        var2 = 4\n",
    "        var3 = var1+var2\n",
    "        print(var3)\n",
    "\n",
    "obj1 = C1() # Declare and initialize\n",
    "obj1.f1() # method call\n",
    "obj1.f1() # method call\n",
    "\n",
    "str1 = str(\"Broadway\")\n",
    "print(str1.upper())"
   ]
  },
  {
   "cell_type": "code",
   "execution_count": 8,
   "id": "d3d0b2a9-30d0-4685-9bef-cbb8563ac5ba",
   "metadata": {},
   "outputs": [],
   "source": [
    "# Creating class\n",
    "class C1():\n",
    "    pass"
   ]
  },
  {
   "cell_type": "code",
   "execution_count": 7,
   "id": "97b2df3b-e9ec-4dff-ae79-9bebb4030d8c",
   "metadata": {},
   "outputs": [],
   "source": [
    "# Creating an object of class\n",
    "from array import array\n",
    "\n",
    "obj1 = C1() # user defined class\n",
    "\n",
    "list1 = list() # in-built class\n",
    "tup1 = tuple() # in-built class\n",
    "set1 = set() # in-built class\n",
    "dict1 = dict() # in-built class\n",
    "arr1 = array('i', []) # in-built class\n"
   ]
  },
  {
   "cell_type": "code",
   "execution_count": 11,
   "id": "d7121c8a-f160-4061-93dd-4d9e0d52f02b",
   "metadata": {},
   "outputs": [],
   "source": [
    "# Adding method in class - function\n",
    "class C1():\n",
    "    def f1(self):\n",
    "        print(\"Hello from f1\")\n",
    "    def f2(self):\n",
    "        return 2+4\n",
    "    def f3(self):\n",
    "        n1 = int(input(\"Enter first no :\"))\n",
    "        n2 = int(input(\"Enter second no :\"))\n",
    "        n3 = n1 + n2\n",
    "        return n3\n",
    "    def f4(self, n1, n2):\n",
    "        n3 = n1 + n2\n",
    "        return n3"
   ]
  },
  {
   "cell_type": "code",
   "execution_count": 15,
   "id": "f26302b1-990f-428b-a9e1-b3adb8ac7972",
   "metadata": {},
   "outputs": [
    {
     "name": "stdout",
     "output_type": "stream",
     "text": [
      "Hello from f1\n",
      "6\n"
     ]
    },
    {
     "name": "stdin",
     "output_type": "stream",
     "text": [
      "Enter first no : 3\n",
      "Enter second no : 4\n"
     ]
    },
    {
     "name": "stdout",
     "output_type": "stream",
     "text": [
      "7\n",
      "6\n"
     ]
    }
   ],
   "source": [
    "# Creating an object and calling method\n",
    "c1 = C1() # c1 is an object of C1 class\n",
    "n1 = 20 # n1 is a variable\n",
    "c1.f1()\n",
    "result = c1.f2()\n",
    "print(result)\n",
    "result = c1.f3()\n",
    "print(result)\n",
    "result = c1.f4(2,4)\n",
    "print(result)"
   ]
  },
  {
   "cell_type": "code",
   "execution_count": 18,
   "id": "2dd985a0-0e8c-4b23-b6d7-3b9bd5aab3ec",
   "metadata": {},
   "outputs": [],
   "source": [
    "# Creating class with variable(s)\n",
    "class C1():\n",
    "    def __init__(self):\n",
    "        self.num1=20 # declare and initialize\n",
    "        self.num2=30\n",
    "    def __str__(self):# access\n",
    "        return str(self.num1)+\", \"+str(self.num2)"
   ]
  },
  {
   "cell_type": "code",
   "execution_count": 19,
   "id": "e00fc853-f6cc-4e45-99cb-0ee4765af932",
   "metadata": {},
   "outputs": [
    {
     "name": "stdout",
     "output_type": "stream",
     "text": [
      "20, 30\n"
     ]
    }
   ],
   "source": [
    "# Test\n",
    "obj1 = C1() # auto call __init__()\n",
    "print(obj1) # auto call __str__()"
   ]
  },
  {
   "cell_type": "code",
   "execution_count": 26,
   "id": "6532c031-9169-4076-a7f6-9ecb08f330cd",
   "metadata": {},
   "outputs": [],
   "source": [
    "# Creating class with variables and methods\n",
    "class C1():\n",
    "    def __init__(self, num1, num2):\n",
    "        self.num1=num1\n",
    "        self.num2=num2\n",
    "        self.num3=0\n",
    "    def add(self):\n",
    "        self.num3 = self.num1+self.num2\n",
    "    def sub(self):\n",
    "        self.num3 = self.num1-self.num2\n",
    "    def prd(self):\n",
    "        self.num3 = self.num1*self.num2\n",
    "    def div(self):\n",
    "        self.num3 = self.num1/self.num2\n",
    "    def rem(self):\n",
    "        self.num3 = self.num1%self.num2\n",
    "    def power(self):\n",
    "        self.num3 = self.num1**self.num2\n",
    "    def __str__(self):\n",
    "        return \"{}, {}, {}\".format(self.num1, self.num2, self.num3)"
   ]
  },
  {
   "cell_type": "code",
   "execution_count": 27,
   "id": "643a133d-8236-4200-a2ac-8c5d4b77f86c",
   "metadata": {},
   "outputs": [
    {
     "name": "stdout",
     "output_type": "stream",
     "text": [
      "3, 4, 7\n"
     ]
    }
   ],
   "source": [
    "# Test\n",
    "obj1 = C1(3,4)\n",
    "obj1.add()\n",
    "print(obj1)"
   ]
  },
  {
   "cell_type": "code",
   "execution_count": 11,
   "id": "2a6c7c3d-bd14-42f5-b88f-69b08dcaa40b",
   "metadata": {},
   "outputs": [],
   "source": [
    "# Class, instance variable, setter/getter, & process method\n",
    "class C1():\n",
    "    def __init__(self, num1=0, num2=0): # constructor method\n",
    "        self.num1=num1\n",
    "        self.num2=num2\n",
    "        self.num3=0\n",
    "    \n",
    "    # Getters\n",
    "    def getNum1(self):\n",
    "        return self.num1\n",
    "    \n",
    "    def getNum2(self):\n",
    "        return self.num2\n",
    "    \n",
    "    def getNum3(self):\n",
    "        return self.num3\n",
    "    \n",
    "    # Setters\n",
    "    def setNum1(self, num1):\n",
    "        self.num1 = num1\n",
    "    \n",
    "    def setNum2(self, num2):\n",
    "        self.num2 = num2\n",
    "    \n",
    "    def setNum3(self, num3):\n",
    "        self.num3=num3\n",
    "    \n",
    "    # Process methods\n",
    "    def sum(self):\n",
    "        self.num3=self.num1+self.num2\n",
    "    \n",
    "    # prd, div, rem, pwr\n",
    "    def sub(self):\n",
    "        self.num3=self.num1-self.num2\n",
    "        \n",
    "    def __str__(self): # toString method\n",
    "        return \"{}, {}, {}\".format(self.num1, self.num2, self.num3)"
   ]
  },
  {
   "cell_type": "code",
   "execution_count": 16,
   "id": "6b7f98c4-cd26-4a4f-b2d7-da7afe0e6aa0",
   "metadata": {},
   "outputs": [
    {
     "name": "stdout",
     "output_type": "stream",
     "text": [
      "5, 6, 0\n",
      "5, 6, 11\n",
      "5, 9, 14\n",
      "14\n"
     ]
    }
   ],
   "source": [
    "# obj1 = C1(7, 3) # __init__(7, 3)\n",
    "# print(obj1) # __str__()\n",
    "# obj1 = C1(10, 3)\n",
    "# print(obj1)\n",
    "\n",
    "obj1 = C1(5,6) # __init__\n",
    "print(obj1)\n",
    "obj1.sum() # sum() \n",
    "print(obj1)\n",
    "obj1.setNum2(9) # setter\n",
    "obj1.sum()\n",
    "print(obj1) # __str__\n",
    "print(obj1.getNum3()) # getter"
   ]
  },
  {
   "cell_type": "code",
   "execution_count": 36,
   "id": "936fadee-b453-4242-b1c8-dfbc11fc9c96",
   "metadata": {},
   "outputs": [],
   "source": [
    "# Inheritance\n",
    "class C2(C1): # C2 is inherited from C1 class\n",
    "    def __str__(self, num1=0, num2=0):\n",
    "        super().__init__(self, num1, num2) # super class __init__()\n",
    "    def prd(self):\n",
    "        self.num3 = self.num1*self.num2\n",
    "    def __str__(self):\n",
    "        return super().__str__()"
   ]
  },
  {
   "cell_type": "code",
   "execution_count": 37,
   "id": "fc906e0b-fa07-4bc9-babd-49f92318f2b6",
   "metadata": {},
   "outputs": [
    {
     "name": "stdout",
     "output_type": "stream",
     "text": [
      "6, 7, 13\n"
     ]
    }
   ],
   "source": [
    "obj2 = C2(6,7)\n",
    "obj2.sum()\n",
    "print(obj2)"
   ]
  },
  {
   "cell_type": "code",
   "execution_count": null,
   "id": "e60167eb-a812-463d-a877-414bb2d3531f",
   "metadata": {},
   "outputs": [],
   "source": []
  }
 ],
 "metadata": {
  "kernelspec": {
   "display_name": "Python 3 (ipykernel)",
   "language": "python",
   "name": "python3"
  },
  "language_info": {
   "codemirror_mode": {
    "name": "ipython",
    "version": 3
   },
   "file_extension": ".py",
   "mimetype": "text/x-python",
   "name": "python",
   "nbconvert_exporter": "python",
   "pygments_lexer": "ipython3",
   "version": "3.10.4"
  }
 },
 "nbformat": 4,
 "nbformat_minor": 5
}
