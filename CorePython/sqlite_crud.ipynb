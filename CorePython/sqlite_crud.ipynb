{
 "cells": [
  {
   "cell_type": "markdown",
   "id": "b2215ae4-1ace-4917-b2c8-5c29ba964e63",
   "metadata": {},
   "source": [
    "## SQLITE CRUD"
   ]
  },
  {
   "cell_type": "code",
   "execution_count": 1,
   "id": "68c075ca-8e48-4552-8611-047a0744c666",
   "metadata": {},
   "outputs": [],
   "source": [
    "# Create databaase file (mydb.sqlite3)\n",
    "# Connect with database file\n",
    "# Create table on database file\n",
    "# Insert record on table\n",
    "# Select record from table\n",
    "# Update record on table\n",
    "# Delete record on table"
   ]
  },
  {
   "cell_type": "code",
   "execution_count": 4,
   "id": "723d84ec-286e-41da-ab79-c129aba081b2",
   "metadata": {},
   "outputs": [
    {
     "name": "stdout",
     "output_type": "stream",
     "text": [
      "Connect with database successfully\n"
     ]
    }
   ],
   "source": [
    "# Create databaase file (mydb.sqlite3)\n",
    "    # Manually create a file with name mydb.sqlite3\n",
    "    \n",
    "# Connect with database file\n",
    "import sys\n",
    "import sqlite3\n",
    "\n",
    "DB_FILE  = \"mydb.sqlite3\"\n",
    "conn = None\n",
    "try:\n",
    "    conn = sqlite3.connect(DB_FILE)\n",
    "    conn.close()\n",
    "    print(\"Connect with database successfully\")\n",
    "except:\n",
    "    print(\"Error : {}\".format(sys.exc_info()[0]))\n",
    "finally:\n",
    "    del conn\n",
    "    del DB_FILE\n"
   ]
  },
  {
   "cell_type": "code",
   "execution_count": 11,
   "id": "47d401a6-a4a8-4675-864f-cd9129370734",
   "metadata": {},
   "outputs": [
    {
     "name": "stdout",
     "output_type": "stream",
     "text": [
      "Create table successfully\n"
     ]
    }
   ],
   "source": [
    "# Create table on database file\n",
    "import sys\n",
    "import sqlite3\n",
    "DB_FILE  = \"mydb.sqlite3\"\n",
    "conn = None\n",
    "cursor = None\n",
    "sql = \"\"\"\n",
    "CREATE TABLE IF NOT EXISTS persons(\n",
    "    pid INTEGER PRIMARY KEY,\n",
    "    fullname TEXT(50),\n",
    "    address TEXT(50)\n",
    ");\n",
    "\"\"\"\n",
    "try:\n",
    "    conn = sqlite3.connect(DB_FILE) # Connect with database file\n",
    "    cursor = conn.cursor() # Initialize cursor object which is used to execute sql statement\n",
    "    cursor.execute(sql) # run sql statement on db\n",
    "    cursor.close()\n",
    "    conn.close()\n",
    "    print(\"Create table successfully\")\n",
    "except:\n",
    "    print(\"Error : {}\".format(sys.exc_info()[0]))\n",
    "finally:\n",
    "    del sql\n",
    "    del cursor\n",
    "    del conn\n",
    "    del DB_FILE"
   ]
  },
  {
   "cell_type": "code",
   "execution_count": null,
   "id": "6f4fd4a2-9d35-40a8-8934-11dad49a1796",
   "metadata": {},
   "outputs": [],
   "source": [
    "# database file -> mydb.sqlite3\n",
    "# persons\n",
    "    # pid INTEGER PRIMARY KEY\n",
    "    # fullname TEXT(50)\n",
    "    # address TEXT(50)\n",
    "# Insert record\n",
    "# database file -> table -> fields\n",
    "# Steps\n",
    "    # prepare sql statement\n",
    "    # connect with database\n",
    "    # execute sql statement\n",
    "    # close connection"
   ]
  },
  {
   "cell_type": "code",
   "execution_count": 40,
   "id": "9d542eeb-11fb-4242-8db3-7ce22c149a5d",
   "metadata": {},
   "outputs": [
    {
     "name": "stdout",
     "output_type": "stream",
     "text": [
      "Error : <class 'sqlite3.IntegrityError'>\n"
     ]
    }
   ],
   "source": [
    "# Example-1\n",
    "import sys\n",
    "import sqlite3\n",
    "# insert, update, delete -> table -> change -> commit (connection)\n",
    "sql = \"\"\"INSERT INTO persons(pid, fullname, address) VALUES(?, ?, ?)\"\"\"\n",
    "values = (3, \"Nepal\", \"KTM\")\n",
    "DB_FILE  = \"mydb.sqlite3\"\n",
    "conn = None\n",
    "cursor = None\n",
    "try:\n",
    "    conn = sqlite3.connect(DB_FILE)\n",
    "    cursor = conn.cursor()\n",
    "    cursor.execute(sql, values)\n",
    "    conn.commit() # Save change on database file\n",
    "    cursor.close()\n",
    "    conn.close()\n",
    "    print(\"Insert record successfully\")\n",
    "except:\n",
    "    print(\"Error : {}\".format(sys.exc_info()[0]))\n",
    "finally:\n",
    "    del cursor\n",
    "    del conn\n",
    "    del DB_FILE\n",
    "    del values\n",
    "    del sql"
   ]
  },
  {
   "cell_type": "code",
   "execution_count": null,
   "id": "b0692fc4-b03b-4812-afe0-9211a9805a72",
   "metadata": {},
   "outputs": [],
   "source": [
    "# Example-2\n",
    "import sys\n",
    "import sqlite3\n",
    "# insert, update, delete -> table -> change -> commit (connection)\n",
    "sql = \"\"\"INSERT INTO persons(pid, fullname, address) VALUES(?, ?, ?)\"\"\"\n",
    "pid = int(input(\"Enter id : \"))\n",
    "name = input(\"Enter name : \")\n",
    "address = input(\"Enter address : \")\n",
    "\n",
    "values = (pid, \"Nepal\", \"KTM\")\n",
    "DB_FILE  = \"mydb.sqlite3\"\n",
    "conn = None\n",
    "cursor = None\n",
    "try:\n",
    "    conn = sqlite3.connect(DB_FILE)\n",
    "    cursor = conn.cursor()\n",
    "    cursor.execute(sql, values)\n",
    "    conn.commit() # Save change on database file\n",
    "    cursor.close()\n",
    "    conn.close()\n",
    "    print(\"Insert record successfully\")\n",
    "except:\n",
    "    print(\"Error : {}\".format(sys.exc_info()[0]))\n",
    "finally:\n",
    "    del cursor\n",
    "    del conn\n",
    "    del DB_FILE\n",
    "    del values\n",
    "    del sql"
   ]
  }
 ],
 "metadata": {
  "kernelspec": {
   "display_name": "Python 3 (ipykernel)",
   "language": "python",
   "name": "python3"
  },
  "language_info": {
   "codemirror_mode": {
    "name": "ipython",
    "version": 3
   },
   "file_extension": ".py",
   "mimetype": "text/x-python",
   "name": "python",
   "nbconvert_exporter": "python",
   "pygments_lexer": "ipython3",
   "version": "3.10.4"
  }
 },
 "nbformat": 4,
 "nbformat_minor": 5
}
